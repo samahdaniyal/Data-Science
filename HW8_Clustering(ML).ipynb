{
 "cells": [
  {
   "cell_type": "code",
   "execution_count": 11,
   "id": "e7ec4351-5ef8-4f55-8b91-2f8dbdb09c0f",
   "metadata": {},
   "outputs": [],
   "source": [
    "import os\n",
    "os.environ[\"OMP_NUM_THREADS\"] = '1'\n",
    "import numpy as np\n",
    "import pandas as pd\n",
    "import matplotlib.pyplot as plt \n",
    "import seaborn as sns\n",
    "from sklearn.cluster import KMeans \n",
    "from sklearn.metrics import silhouette_score\n",
    "from sklearn.preprocessing import MinMaxScaler"
   ]
  },
  {
   "cell_type": "code",
   "execution_count": 12,
   "id": "89110595-7d26-46ca-b5f0-068f817b1da2",
   "metadata": {},
   "outputs": [
    {
     "data": {
      "text/html": [
       "<div>\n",
       "<style scoped>\n",
       "    .dataframe tbody tr th:only-of-type {\n",
       "        vertical-align: middle;\n",
       "    }\n",
       "\n",
       "    .dataframe tbody tr th {\n",
       "        vertical-align: top;\n",
       "    }\n",
       "\n",
       "    .dataframe thead th {\n",
       "        text-align: right;\n",
       "    }\n",
       "</style>\n",
       "<table border=\"1\" class=\"dataframe\">\n",
       "  <thead>\n",
       "    <tr style=\"text-align: right;\">\n",
       "      <th></th>\n",
       "      <th>Flavour</th>\n",
       "      <th>Calories</th>\n",
       "      <th>Total Fat (g)</th>\n",
       "      <th>Trans Fat (g)</th>\n",
       "      <th>Carbohydrates (g)</th>\n",
       "      <th>Sugars (g)</th>\n",
       "      <th>Protein (g)</th>\n",
       "      <th>Category</th>\n",
       "    </tr>\n",
       "  </thead>\n",
       "  <tbody>\n",
       "    <tr>\n",
       "      <th>0</th>\n",
       "      <td>Bananas Foster</td>\n",
       "      <td>160</td>\n",
       "      <td>8.0</td>\n",
       "      <td>0.2</td>\n",
       "      <td>20</td>\n",
       "      <td>16</td>\n",
       "      <td>2.0</td>\n",
       "      <td>std</td>\n",
       "    </tr>\n",
       "    <tr>\n",
       "      <th>1</th>\n",
       "      <td>Baseball Nut</td>\n",
       "      <td>160</td>\n",
       "      <td>9.0</td>\n",
       "      <td>0.2</td>\n",
       "      <td>19</td>\n",
       "      <td>13</td>\n",
       "      <td>3.0</td>\n",
       "      <td>std</td>\n",
       "    </tr>\n",
       "    <tr>\n",
       "      <th>2</th>\n",
       "      <td>Beavertails Pastry</td>\n",
       "      <td>170</td>\n",
       "      <td>9.0</td>\n",
       "      <td>0.3</td>\n",
       "      <td>21</td>\n",
       "      <td>15</td>\n",
       "      <td>3.0</td>\n",
       "      <td>std</td>\n",
       "    </tr>\n",
       "    <tr>\n",
       "      <th>3</th>\n",
       "      <td>Blackberry Frozen Yogurt</td>\n",
       "      <td>120</td>\n",
       "      <td>4.0</td>\n",
       "      <td>0.1</td>\n",
       "      <td>17</td>\n",
       "      <td>16</td>\n",
       "      <td>3.0</td>\n",
       "      <td>std</td>\n",
       "    </tr>\n",
       "    <tr>\n",
       "      <th>4</th>\n",
       "      <td>Blue Raspberry Sherbet</td>\n",
       "      <td>130</td>\n",
       "      <td>2.0</td>\n",
       "      <td>0.1</td>\n",
       "      <td>26</td>\n",
       "      <td>20</td>\n",
       "      <td>2.0</td>\n",
       "      <td>light</td>\n",
       "    </tr>\n",
       "  </tbody>\n",
       "</table>\n",
       "</div>"
      ],
      "text/plain": [
       "                    Flavour  Calories  Total Fat (g)  Trans Fat (g)  \\\n",
       "0            Bananas Foster       160            8.0            0.2   \n",
       "1              Baseball Nut       160            9.0            0.2   \n",
       "2        Beavertails Pastry       170            9.0            0.3   \n",
       "3  Blackberry Frozen Yogurt       120            4.0            0.1   \n",
       "4    Blue Raspberry Sherbet       130            2.0            0.1   \n",
       "\n",
       "   Carbohydrates (g)  Sugars (g)  Protein (g) Category  \n",
       "0                 20          16          2.0      std  \n",
       "1                 19          13          3.0      std  \n",
       "2                 21          15          3.0      std  \n",
       "3                 17          16          3.0      std  \n",
       "4                 26          20          2.0    light  "
      ]
     },
     "execution_count": 12,
     "metadata": {},
     "output_type": "execute_result"
    }
   ],
   "source": [
    "BRdf = pd.read_csv('baskin_robbins_icecream.csv')\n",
    "BRdf.head()"
   ]
  },
  {
   "cell_type": "markdown",
   "id": "30649431-e3b5-4e1a-8d25-e5e254e17494",
   "metadata": {},
   "source": [
    "#### Q1"
   ]
  },
  {
   "cell_type": "code",
   "execution_count": 14,
   "id": "c6806f43-a349-4870-a7e0-5e4338b103a8",
   "metadata": {},
   "outputs": [],
   "source": [
    "X = BRdf.drop(['Flavour', 'Category'], axis=1)"
   ]
  },
  {
   "cell_type": "code",
   "execution_count": 15,
   "id": "22ca2af5-4de1-4a59-b1b2-9760b3918bf9",
   "metadata": {},
   "outputs": [
    {
     "data": {
      "text/html": [
       "<div>\n",
       "<style scoped>\n",
       "    .dataframe tbody tr th:only-of-type {\n",
       "        vertical-align: middle;\n",
       "    }\n",
       "\n",
       "    .dataframe tbody tr th {\n",
       "        vertical-align: top;\n",
       "    }\n",
       "\n",
       "    .dataframe thead th {\n",
       "        text-align: right;\n",
       "    }\n",
       "</style>\n",
       "<table border=\"1\" class=\"dataframe\">\n",
       "  <thead>\n",
       "    <tr style=\"text-align: right;\">\n",
       "      <th></th>\n",
       "      <th>Calories</th>\n",
       "      <th>Total Fat (g)</th>\n",
       "      <th>Trans Fat (g)</th>\n",
       "      <th>Carbohydrates (g)</th>\n",
       "      <th>Sugars (g)</th>\n",
       "      <th>Protein (g)</th>\n",
       "    </tr>\n",
       "  </thead>\n",
       "  <tbody>\n",
       "    <tr>\n",
       "      <th>0</th>\n",
       "      <td>160</td>\n",
       "      <td>8.0</td>\n",
       "      <td>0.2</td>\n",
       "      <td>20</td>\n",
       "      <td>16</td>\n",
       "      <td>2.0</td>\n",
       "    </tr>\n",
       "    <tr>\n",
       "      <th>1</th>\n",
       "      <td>160</td>\n",
       "      <td>9.0</td>\n",
       "      <td>0.2</td>\n",
       "      <td>19</td>\n",
       "      <td>13</td>\n",
       "      <td>3.0</td>\n",
       "    </tr>\n",
       "    <tr>\n",
       "      <th>2</th>\n",
       "      <td>170</td>\n",
       "      <td>9.0</td>\n",
       "      <td>0.3</td>\n",
       "      <td>21</td>\n",
       "      <td>15</td>\n",
       "      <td>3.0</td>\n",
       "    </tr>\n",
       "    <tr>\n",
       "      <th>3</th>\n",
       "      <td>120</td>\n",
       "      <td>4.0</td>\n",
       "      <td>0.1</td>\n",
       "      <td>17</td>\n",
       "      <td>16</td>\n",
       "      <td>3.0</td>\n",
       "    </tr>\n",
       "    <tr>\n",
       "      <th>4</th>\n",
       "      <td>130</td>\n",
       "      <td>2.0</td>\n",
       "      <td>0.1</td>\n",
       "      <td>26</td>\n",
       "      <td>20</td>\n",
       "      <td>2.0</td>\n",
       "    </tr>\n",
       "  </tbody>\n",
       "</table>\n",
       "</div>"
      ],
      "text/plain": [
       "   Calories  Total Fat (g)  Trans Fat (g)  Carbohydrates (g)  Sugars (g)  \\\n",
       "0       160            8.0            0.2                 20          16   \n",
       "1       160            9.0            0.2                 19          13   \n",
       "2       170            9.0            0.3                 21          15   \n",
       "3       120            4.0            0.1                 17          16   \n",
       "4       130            2.0            0.1                 26          20   \n",
       "\n",
       "   Protein (g)  \n",
       "0          2.0  \n",
       "1          3.0  \n",
       "2          3.0  \n",
       "3          3.0  \n",
       "4          2.0  "
      ]
     },
     "execution_count": 15,
     "metadata": {},
     "output_type": "execute_result"
    }
   ],
   "source": [
    "X.head()"
   ]
  },
  {
   "cell_type": "code",
   "execution_count": 16,
   "id": "6d88852b-a531-4e0b-8910-860bf28a70cd",
   "metadata": {},
   "outputs": [
    {
     "data": {
      "text/html": [
       "<div>\n",
       "<style scoped>\n",
       "    .dataframe tbody tr th:only-of-type {\n",
       "        vertical-align: middle;\n",
       "    }\n",
       "\n",
       "    .dataframe tbody tr th {\n",
       "        vertical-align: top;\n",
       "    }\n",
       "\n",
       "    .dataframe thead th {\n",
       "        text-align: right;\n",
       "    }\n",
       "</style>\n",
       "<table border=\"1\" class=\"dataframe\">\n",
       "  <thead>\n",
       "    <tr style=\"text-align: right;\">\n",
       "      <th></th>\n",
       "      <th>Calories</th>\n",
       "      <th>Total Fat (g)</th>\n",
       "      <th>Trans Fat (g)</th>\n",
       "      <th>Carbohydrates (g)</th>\n",
       "      <th>Sugars (g)</th>\n",
       "      <th>Protein (g)</th>\n",
       "    </tr>\n",
       "  </thead>\n",
       "  <tbody>\n",
       "    <tr>\n",
       "      <th>65</th>\n",
       "      <td>200</td>\n",
       "      <td>10.0</td>\n",
       "      <td>0.4</td>\n",
       "      <td>24</td>\n",
       "      <td>21</td>\n",
       "      <td>4.0</td>\n",
       "    </tr>\n",
       "    <tr>\n",
       "      <th>66</th>\n",
       "      <td>120</td>\n",
       "      <td>0.5</td>\n",
       "      <td>0.0</td>\n",
       "      <td>27</td>\n",
       "      <td>20</td>\n",
       "      <td>0.1</td>\n",
       "    </tr>\n",
       "    <tr>\n",
       "      <th>67</th>\n",
       "      <td>80</td>\n",
       "      <td>1.5</td>\n",
       "      <td>0.0</td>\n",
       "      <td>16</td>\n",
       "      <td>12</td>\n",
       "      <td>1.0</td>\n",
       "    </tr>\n",
       "    <tr>\n",
       "      <th>68</th>\n",
       "      <td>160</td>\n",
       "      <td>8.0</td>\n",
       "      <td>0.2</td>\n",
       "      <td>20</td>\n",
       "      <td>16</td>\n",
       "      <td>2.0</td>\n",
       "    </tr>\n",
       "    <tr>\n",
       "      <th>69</th>\n",
       "      <td>260</td>\n",
       "      <td>60.0</td>\n",
       "      <td>0.4</td>\n",
       "      <td>25</td>\n",
       "      <td>18</td>\n",
       "      <td>5.0</td>\n",
       "    </tr>\n",
       "  </tbody>\n",
       "</table>\n",
       "</div>"
      ],
      "text/plain": [
       "    Calories  Total Fat (g)  Trans Fat (g)  Carbohydrates (g)  Sugars (g)  \\\n",
       "65       200           10.0            0.4                 24          21   \n",
       "66       120            0.5            0.0                 27          20   \n",
       "67        80            1.5            0.0                 16          12   \n",
       "68       160            8.0            0.2                 20          16   \n",
       "69       260           60.0            0.4                 25          18   \n",
       "\n",
       "    Protein (g)  \n",
       "65          4.0  \n",
       "66          0.1  \n",
       "67          1.0  \n",
       "68          2.0  \n",
       "69          5.0  "
      ]
     },
     "execution_count": 16,
     "metadata": {},
     "output_type": "execute_result"
    }
   ],
   "source": [
    "X.tail()"
   ]
  },
  {
   "cell_type": "markdown",
   "id": "380a914d-ed26-46ba-9aa0-3ae05deafdf3",
   "metadata": {},
   "source": [
    "#### Q2"
   ]
  },
  {
   "cell_type": "code",
   "execution_count": 18,
   "id": "ab5cf6f8-921b-48ad-a3bc-3981ae3282a4",
   "metadata": {},
   "outputs": [],
   "source": [
    "scaler = MinMaxScaler()\n",
    "XS = scaler.fit_transform(X)"
   ]
  },
  {
   "cell_type": "code",
   "execution_count": 19,
   "id": "ca8220b9-f4a7-4f2b-ae4f-b705b26ad152",
   "metadata": {},
   "outputs": [
    {
     "data": {
      "text/plain": [
       "array([[0.34615385, 0.15      , 0.4       , 0.24      , 0.375     ,\n",
       "        0.375     ],\n",
       "       [0.38461538, 0.15      , 0.6       , 0.32      , 0.45833333,\n",
       "        0.375     ],\n",
       "       [0.19230769, 0.06666667, 0.2       , 0.16      , 0.5       ,\n",
       "        0.375     ],\n",
       "       [0.23076923, 0.03333333, 0.2       , 0.52      , 0.66666667,\n",
       "        0.25      ]])"
      ]
     },
     "execution_count": 19,
     "metadata": {},
     "output_type": "execute_result"
    }
   ],
   "source": [
    "XS[1:5]"
   ]
  },
  {
   "cell_type": "code",
   "execution_count": 20,
   "id": "b2f3040d-3a76-4c01-800e-7aa01b997d20",
   "metadata": {},
   "outputs": [],
   "source": [
    "import warnings\n",
    "warnings.filterwarnings('ignore')"
   ]
  },
  {
   "cell_type": "markdown",
   "id": "4f0bffba-e516-4858-9755-3d54c0aedb73",
   "metadata": {},
   "source": [
    "#### Q3 & 4"
   ]
  },
  {
   "cell_type": "code",
   "execution_count": 30,
   "id": "e87aca89-a21e-4748-be37-5ef5d2b27887",
   "metadata": {},
   "outputs": [],
   "source": [
    "wss = []\n",
    "for i in range(1, 15):\n",
    "    kmeans = KMeans(n_clusters = i, max_iter = 300, n_init=10, random_state = 99)\n",
    "    kmeans.fit(XS)\n",
    "    wss.append(kmeans.inertia_)"
   ]
  },
  {
   "cell_type": "code",
   "execution_count": 32,
   "id": "f58ae5c3-11d8-471d-8dc7-3f62f6dec8b9",
   "metadata": {},
   "outputs": [
    {
     "data": {
      "image/png": "[encoded data removed]",
      "text/plain": [
       "<Figure size 640x480 with 1 Axes>"
      ]
     },
     "metadata": {},
     "output_type": "display_data"
    }
   ],
   "source": [
    "plt.plot(range(1, 15), wss)\n",
    "plt.title('The elbow method')\n",
    "plt.xlabel('Number of clusters')\n",
    "plt.ylabel('WCSS') #within cluster sum of squares\n",
    "plt.show()"
   ]
  },
  {
   "cell_type": "code",
   "execution_count": 38,
   "id": "d8073c98-84fe-409a-b323-4193deb8cd4d",
   "metadata": {},
   "outputs": [
    {
     "data": {
      "text/plain": [
       "array([1, 1, 1, 1, 1, 1, 1, 1, 1, 2, 1, 0, 0, 2, 1, 2, 1, 1, 1, 0, 2, 1,\n",
       "       1, 1, 1, 2, 1, 2, 2, 2, 1, 1, 1, 1, 2, 0, 2, 0, 1, 0, 0, 1, 0, 1,\n",
       "       1, 1, 1, 0, 2, 1, 1, 2, 1, 2, 1, 2, 2, 1, 1, 2, 1, 1, 0, 1, 1, 2,\n",
       "       1, 1, 1, 0])"
      ]
     },
     "execution_count": 38,
     "metadata": {},
     "output_type": "execute_result"
    }
   ],
   "source": [
    "kmeans = KMeans(n_clusters = 3, max_iter = 300, random_state = 99)\n",
    "Y = kmeans.fit_predict(XS)\n",
    "Y"
   ]
  },
  {
   "cell_type": "code",
   "execution_count": 41,
   "id": "ca6871d6-8f28-4cb9-be4c-17c5cb9798ab",
   "metadata": {},
   "outputs": [
    {
     "data": {
      "text/plain": [
       "0.3583141783564117"
      ]
     },
     "execution_count": 41,
     "metadata": {},
     "output_type": "execute_result"
    }
   ],
   "source": [
    "score = silhouette_score(XS, kmeans.labels_, metric='euclidean')\n",
    "score"
   ]
  },
  {
   "cell_type": "markdown",
   "id": "e50dfdfb-5c5e-413e-8c79-a55159cb4bbc",
   "metadata": {},
   "source": [
    "##### WSS measures the variance within clusters and typically decreases as the number of clusters increases. The \"elbow\" point—where the decrease rate noticeably slows—is viewed as the optimal number of clusters. Here, the optimal cluster number is 3.\n",
    "##### With a silhouette score of 0.358, the clustering shows moderate separation, but there may be overlap between clusters. This score suggests that the clusters are not perfectly distinct, and there could be some room for improvement in clustering quality, either by adjusting the cluster number or by trying a different clustering method."
   ]
  },
  {
   "cell_type": "markdown",
   "id": "23af3647-90d1-4794-b324-4bee6a8760d2",
   "metadata": {},
   "source": [
    "#### Q5"
   ]
  },
  {
   "cell_type": "code",
   "execution_count": 100,
   "id": "a74befc9-1851-47c0-9af1-aa1efb1e4aa7",
   "metadata": {},
   "outputs": [
    {
     "data": {
      "text/plain": [
       "Text(0.5, 1.0, 'The dataset post clustering')"
      ]
     },
     "execution_count": 100,
     "metadata": {},
     "output_type": "execute_result"
    },
    {
     "data": {
      "image/png": "[encoded data removed]",
      "text/plain": [
       "<Figure size 640x480 with 1 Axes>"
      ]
     },
     "metadata": {},
     "output_type": "display_data"
    }
   ],
   "source": [
    "# Plotting the clusters\n",
    "color2=np.array(['green','red','blue'])\n",
    "plt.scatter(x=X.Calories,y=X['Sugars (g)'],c=color2[kmeans.labels_])\n",
    "plt.xlabel('Calories')\n",
    "plt.ylabel('Sugars (g)')\n",
    "plt.title(\"The dataset post clustering\")"
   ]
  },
  {
   "cell_type": "markdown",
   "id": "14e3c836-3b0d-42ed-8f14-95197b98e126",
   "metadata": {},
   "source": [
    "##### The scatter plot illustrates the clustering of ice cream items based on calories and sugar content. Three clusters emerge: a red cluster representing low-calorie, low-sugar items (around 80-200 calories and 5-20g sugar), a green cluster indicating moderate-calorie and moderate-sugar items (200-300 calories and 10-20g sugar), and a blue cluster for high-calorie, high-sugar items (250-325 calories and 15-25g sugar). This segmentation can guide dietary recommendations, identifying items as \"Low-Calorie,\" \"Balanced,\" or \"Indulgent\" based on their nutritional profiles."
   ]
  },
  {
   "cell_type": "markdown",
   "id": "ffcc080a-01a8-42f9-9966-d4b3d381c20e",
   "metadata": {},
   "source": [
    "#### Q6"
   ]
  },
  {
   "cell_type": "code",
   "execution_count": 109,
   "id": "f2e549a4-f842-4129-8777-25c35c0b17e0",
   "metadata": {},
   "outputs": [],
   "source": [
    "C1 = X.iloc[Y == 0, :]\n",
    "C2 = X.iloc[Y == 1, :]\n",
    "C3 = X.iloc[Y == 2, :]"
   ]
  },
  {
   "cell_type": "markdown",
   "id": "6b83e2ae-2c93-450a-bced-e0b616c3e6b3",
   "metadata": {},
   "source": [
    "#### Q7"
   ]
  },
  {
   "cell_type": "code",
   "execution_count": 122,
   "id": "026ec4c8-fab0-4e05-9864-1c1ebcf9bd40",
   "metadata": {},
   "outputs": [
    {
     "data": {
      "text/html": [
       "<div>\n",
       "<style scoped>\n",
       "    .dataframe tbody tr th:only-of-type {\n",
       "        vertical-align: middle;\n",
       "    }\n",
       "\n",
       "    .dataframe tbody tr th {\n",
       "        vertical-align: top;\n",
       "    }\n",
       "\n",
       "    .dataframe thead th {\n",
       "        text-align: right;\n",
       "    }\n",
       "</style>\n",
       "<table border=\"1\" class=\"dataframe\">\n",
       "  <thead>\n",
       "    <tr style=\"text-align: right;\">\n",
       "      <th></th>\n",
       "      <th>Calories</th>\n",
       "      <th>Total Fat (g)</th>\n",
       "      <th>Trans Fat (g)</th>\n",
       "      <th>Carbohydrates (g)</th>\n",
       "      <th>Sugars (g)</th>\n",
       "      <th>Protein (g)</th>\n",
       "    </tr>\n",
       "  </thead>\n",
       "  <tbody>\n",
       "    <tr>\n",
       "      <th>count</th>\n",
       "      <td>11.000000</td>\n",
       "      <td>11.000000</td>\n",
       "      <td>11.000000</td>\n",
       "      <td>11.000000</td>\n",
       "      <td>11.000000</td>\n",
       "      <td>11.000000</td>\n",
       "    </tr>\n",
       "    <tr>\n",
       "      <th>mean</th>\n",
       "      <td>256.363636</td>\n",
       "      <td>20.545455</td>\n",
       "      <td>0.436364</td>\n",
       "      <td>22.818182</td>\n",
       "      <td>17.090909</td>\n",
       "      <td>5.454545</td>\n",
       "    </tr>\n",
       "    <tr>\n",
       "      <th>std</th>\n",
       "      <td>21.574396</td>\n",
       "      <td>13.261702</td>\n",
       "      <td>0.050452</td>\n",
       "      <td>1.887760</td>\n",
       "      <td>1.044466</td>\n",
       "      <td>0.820200</td>\n",
       "    </tr>\n",
       "    <tr>\n",
       "      <th>min</th>\n",
       "      <td>220.000000</td>\n",
       "      <td>13.000000</td>\n",
       "      <td>0.400000</td>\n",
       "      <td>20.000000</td>\n",
       "      <td>15.000000</td>\n",
       "      <td>5.000000</td>\n",
       "    </tr>\n",
       "    <tr>\n",
       "      <th>25%</th>\n",
       "      <td>240.000000</td>\n",
       "      <td>15.000000</td>\n",
       "      <td>0.400000</td>\n",
       "      <td>21.500000</td>\n",
       "      <td>16.500000</td>\n",
       "      <td>5.000000</td>\n",
       "    </tr>\n",
       "    <tr>\n",
       "      <th>50%</th>\n",
       "      <td>260.000000</td>\n",
       "      <td>17.000000</td>\n",
       "      <td>0.400000</td>\n",
       "      <td>23.000000</td>\n",
       "      <td>17.000000</td>\n",
       "      <td>5.000000</td>\n",
       "    </tr>\n",
       "    <tr>\n",
       "      <th>75%</th>\n",
       "      <td>270.000000</td>\n",
       "      <td>18.500000</td>\n",
       "      <td>0.500000</td>\n",
       "      <td>24.500000</td>\n",
       "      <td>18.000000</td>\n",
       "      <td>5.500000</td>\n",
       "    </tr>\n",
       "    <tr>\n",
       "      <th>max</th>\n",
       "      <td>290.000000</td>\n",
       "      <td>60.000000</td>\n",
       "      <td>0.500000</td>\n",
       "      <td>25.000000</td>\n",
       "      <td>18.000000</td>\n",
       "      <td>7.000000</td>\n",
       "    </tr>\n",
       "  </tbody>\n",
       "</table>\n",
       "</div>"
      ],
      "text/plain": [
       "         Calories  Total Fat (g)  Trans Fat (g)  Carbohydrates (g)  \\\n",
       "count   11.000000      11.000000      11.000000          11.000000   \n",
       "mean   256.363636      20.545455       0.436364          22.818182   \n",
       "std     21.574396      13.261702       0.050452           1.887760   \n",
       "min    220.000000      13.000000       0.400000          20.000000   \n",
       "25%    240.000000      15.000000       0.400000          21.500000   \n",
       "50%    260.000000      17.000000       0.400000          23.000000   \n",
       "75%    270.000000      18.500000       0.500000          24.500000   \n",
       "max    290.000000      60.000000       0.500000          25.000000   \n",
       "\n",
       "       Sugars (g)  Protein (g)  \n",
       "count   11.000000    11.000000  \n",
       "mean    17.090909     5.454545  \n",
       "std      1.044466     0.820200  \n",
       "min     15.000000     5.000000  \n",
       "25%     16.500000     5.000000  \n",
       "50%     17.000000     5.000000  \n",
       "75%     18.000000     5.500000  \n",
       "max     18.000000     7.000000  "
      ]
     },
     "execution_count": 122,
     "metadata": {},
     "output_type": "execute_result"
    }
   ],
   "source": [
    "C1.describe()"
   ]
  },
  {
   "cell_type": "code",
   "execution_count": 153,
   "id": "56aa4e34-d9ef-4394-ab74-1a339801a805",
   "metadata": {},
   "outputs": [
    {
     "data": {
      "image/png": "[encoded data removed]",
      "text/plain": [
       "<Figure size 640x480 with 1 Axes>"
      ]
     },
     "metadata": {},
     "output_type": "display_data"
    }
   ],
   "source": [
    "sns.histplot(data=C1, x='Sugars (g)', color='red', label='Cluster 1')\n",
    "plt.legend()\n",
    "plt.show()"
   ]
  },
  {
   "cell_type": "code",
   "execution_count": 170,
   "id": "0317ff74-aa51-4a32-8040-45e08dc692c8",
   "metadata": {},
   "outputs": [
    {
     "data": {
      "text/plain": [
       "17.09090909090909"
      ]
     },
     "execution_count": 170,
     "metadata": {},
     "output_type": "execute_result"
    }
   ],
   "source": [
    "C1['Sugars (g)'].mean()"
   ]
  },
  {
   "cell_type": "code",
   "execution_count": 173,
   "id": "83fa8b13-f644-40e8-9dbc-2ce8b7b6a7e8",
   "metadata": {},
   "outputs": [
    {
     "data": {
      "text/plain": [
       "<Axes: >"
      ]
     },
     "execution_count": 173,
     "metadata": {},
     "output_type": "execute_result"
    },
    {
     "data": {
      "image/png": "[encoded data removed]",
      "text/plain": [
       "<Figure size 640x480 with 1 Axes>"
      ]
     },
     "metadata": {},
     "output_type": "display_data"
    }
   ],
   "source": [
    "C1['Sugars (g)'].hist()"
   ]
  },
  {
   "cell_type": "code",
   "execution_count": 124,
   "id": "9f1dced9-dee0-4e52-86d0-4367d72f6562",
   "metadata": {},
   "outputs": [
    {
     "data": {
      "text/html": [
       "<div>\n",
       "<style scoped>\n",
       "    .dataframe tbody tr th:only-of-type {\n",
       "        vertical-align: middle;\n",
       "    }\n",
       "\n",
       "    .dataframe tbody tr th {\n",
       "        vertical-align: top;\n",
       "    }\n",
       "\n",
       "    .dataframe thead th {\n",
       "        text-align: right;\n",
       "    }\n",
       "</style>\n",
       "<table border=\"1\" class=\"dataframe\">\n",
       "  <thead>\n",
       "    <tr style=\"text-align: right;\">\n",
       "      <th></th>\n",
       "      <th>Calories</th>\n",
       "      <th>Total Fat (g)</th>\n",
       "      <th>Trans Fat (g)</th>\n",
       "      <th>Carbohydrates (g)</th>\n",
       "      <th>Sugars (g)</th>\n",
       "      <th>Protein (g)</th>\n",
       "    </tr>\n",
       "  </thead>\n",
       "  <tbody>\n",
       "    <tr>\n",
       "      <th>count</th>\n",
       "      <td>42.000000</td>\n",
       "      <td>42.000000</td>\n",
       "      <td>42.000000</td>\n",
       "      <td>42.000000</td>\n",
       "      <td>42.000000</td>\n",
       "      <td>42.000000</td>\n",
       "    </tr>\n",
       "    <tr>\n",
       "      <th>mean</th>\n",
       "      <td>149.761905</td>\n",
       "      <td>6.819048</td>\n",
       "      <td>0.190476</td>\n",
       "      <td>20.238095</td>\n",
       "      <td>14.571429</td>\n",
       "      <td>2.635714</td>\n",
       "    </tr>\n",
       "    <tr>\n",
       "      <th>std</th>\n",
       "      <td>36.122292</td>\n",
       "      <td>3.889275</td>\n",
       "      <td>0.118547</td>\n",
       "      <td>4.600157</td>\n",
       "      <td>3.527888</td>\n",
       "      <td>1.347956</td>\n",
       "    </tr>\n",
       "    <tr>\n",
       "      <th>min</th>\n",
       "      <td>70.000000</td>\n",
       "      <td>0.000000</td>\n",
       "      <td>0.000000</td>\n",
       "      <td>13.000000</td>\n",
       "      <td>4.000000</td>\n",
       "      <td>0.000000</td>\n",
       "    </tr>\n",
       "    <tr>\n",
       "      <th>25%</th>\n",
       "      <td>130.000000</td>\n",
       "      <td>4.250000</td>\n",
       "      <td>0.100000</td>\n",
       "      <td>17.000000</td>\n",
       "      <td>13.000000</td>\n",
       "      <td>2.000000</td>\n",
       "    </tr>\n",
       "    <tr>\n",
       "      <th>50%</th>\n",
       "      <td>160.000000</td>\n",
       "      <td>8.000000</td>\n",
       "      <td>0.200000</td>\n",
       "      <td>20.000000</td>\n",
       "      <td>15.000000</td>\n",
       "      <td>3.000000</td>\n",
       "    </tr>\n",
       "    <tr>\n",
       "      <th>75%</th>\n",
       "      <td>180.000000</td>\n",
       "      <td>9.750000</td>\n",
       "      <td>0.300000</td>\n",
       "      <td>21.000000</td>\n",
       "      <td>17.000000</td>\n",
       "      <td>3.000000</td>\n",
       "    </tr>\n",
       "    <tr>\n",
       "      <th>max</th>\n",
       "      <td>200.000000</td>\n",
       "      <td>12.000000</td>\n",
       "      <td>0.400000</td>\n",
       "      <td>38.000000</td>\n",
       "      <td>20.000000</td>\n",
       "      <td>6.000000</td>\n",
       "    </tr>\n",
       "  </tbody>\n",
       "</table>\n",
       "</div>"
      ],
      "text/plain": [
       "         Calories  Total Fat (g)  Trans Fat (g)  Carbohydrates (g)  \\\n",
       "count   42.000000      42.000000      42.000000          42.000000   \n",
       "mean   149.761905       6.819048       0.190476          20.238095   \n",
       "std     36.122292       3.889275       0.118547           4.600157   \n",
       "min     70.000000       0.000000       0.000000          13.000000   \n",
       "25%    130.000000       4.250000       0.100000          17.000000   \n",
       "50%    160.000000       8.000000       0.200000          20.000000   \n",
       "75%    180.000000       9.750000       0.300000          21.000000   \n",
       "max    200.000000      12.000000       0.400000          38.000000   \n",
       "\n",
       "       Sugars (g)  Protein (g)  \n",
       "count   42.000000    42.000000  \n",
       "mean    14.571429     2.635714  \n",
       "std      3.527888     1.347956  \n",
       "min      4.000000     0.000000  \n",
       "25%     13.000000     2.000000  \n",
       "50%     15.000000     3.000000  \n",
       "75%     17.000000     3.000000  \n",
       "max     20.000000     6.000000  "
      ]
     },
     "execution_count": 124,
     "metadata": {},
     "output_type": "execute_result"
    }
   ],
   "source": [
    "C2.describe()"
   ]
  },
  {
   "cell_type": "code",
   "execution_count": 149,
   "id": "2cc639d2-5646-4b0f-b60d-278e7726f94a",
   "metadata": {},
   "outputs": [
    {
     "data": {
      "image/png": "[encoded data removed]",
      "text/plain": [
       "<Figure size 640x480 with 1 Axes>"
      ]
     },
     "metadata": {},
     "output_type": "display_data"
    }
   ],
   "source": [
    "sns.histplot(data=C2, x='Sugars (g)', color='green', label='Cluster 2')\n",
    "plt.legend()\n",
    "plt.show()"
   ]
  },
  {
   "cell_type": "code",
   "execution_count": 176,
   "id": "b0184e21-d870-46b4-918a-571ce6641356",
   "metadata": {},
   "outputs": [
    {
     "data": {
      "text/plain": [
       "14.571428571428571"
      ]
     },
     "execution_count": 176,
     "metadata": {},
     "output_type": "execute_result"
    }
   ],
   "source": [
    "C2['Sugars (g)'].mean()"
   ]
  },
  {
   "cell_type": "code",
   "execution_count": 180,
   "id": "eaef2537-40b8-4000-8ce3-64ada229a4db",
   "metadata": {},
   "outputs": [
    {
     "data": {
      "text/plain": [
       "<Axes: >"
      ]
     },
     "execution_count": 180,
     "metadata": {},
     "output_type": "execute_result"
    },
    {
     "data": {
      "image/png": "[encoded data removed]",
      "text/plain": [
       "<Figure size 640x480 with 1 Axes>"
      ]
     },
     "metadata": {},
     "output_type": "display_data"
    }
   ],
   "source": [
    "C2['Sugars (g)'].hist()"
   ]
  },
  {
   "cell_type": "code",
   "execution_count": 126,
   "id": "e3890abe-3984-4af0-8df3-a3b20ba4dd85",
   "metadata": {},
   "outputs": [
    {
     "data": {
      "text/html": [
       "<div>\n",
       "<style scoped>\n",
       "    .dataframe tbody tr th:only-of-type {\n",
       "        vertical-align: middle;\n",
       "    }\n",
       "\n",
       "    .dataframe tbody tr th {\n",
       "        vertical-align: top;\n",
       "    }\n",
       "\n",
       "    .dataframe thead th {\n",
       "        text-align: right;\n",
       "    }\n",
       "</style>\n",
       "<table border=\"1\" class=\"dataframe\">\n",
       "  <thead>\n",
       "    <tr style=\"text-align: right;\">\n",
       "      <th></th>\n",
       "      <th>Calories</th>\n",
       "      <th>Total Fat (g)</th>\n",
       "      <th>Trans Fat (g)</th>\n",
       "      <th>Carbohydrates (g)</th>\n",
       "      <th>Sugars (g)</th>\n",
       "      <th>Protein (g)</th>\n",
       "    </tr>\n",
       "  </thead>\n",
       "  <tbody>\n",
       "    <tr>\n",
       "      <th>count</th>\n",
       "      <td>17.000000</td>\n",
       "      <td>17.000000</td>\n",
       "      <td>17.000000</td>\n",
       "      <td>17.000000</td>\n",
       "      <td>17.000000</td>\n",
       "      <td>17.000000</td>\n",
       "    </tr>\n",
       "    <tr>\n",
       "      <th>mean</th>\n",
       "      <td>253.529412</td>\n",
       "      <td>13.352941</td>\n",
       "      <td>0.388235</td>\n",
       "      <td>29.529412</td>\n",
       "      <td>22.588235</td>\n",
       "      <td>4.647059</td>\n",
       "    </tr>\n",
       "    <tr>\n",
       "      <th>std</th>\n",
       "      <td>34.630401</td>\n",
       "      <td>3.180825</td>\n",
       "      <td>0.060025</td>\n",
       "      <td>2.527787</td>\n",
       "      <td>2.450990</td>\n",
       "      <td>1.057188</td>\n",
       "    </tr>\n",
       "    <tr>\n",
       "      <th>min</th>\n",
       "      <td>200.000000</td>\n",
       "      <td>9.000000</td>\n",
       "      <td>0.200000</td>\n",
       "      <td>24.000000</td>\n",
       "      <td>19.000000</td>\n",
       "      <td>4.000000</td>\n",
       "    </tr>\n",
       "    <tr>\n",
       "      <th>25%</th>\n",
       "      <td>230.000000</td>\n",
       "      <td>11.000000</td>\n",
       "      <td>0.400000</td>\n",
       "      <td>29.000000</td>\n",
       "      <td>20.000000</td>\n",
       "      <td>4.000000</td>\n",
       "    </tr>\n",
       "    <tr>\n",
       "      <th>50%</th>\n",
       "      <td>250.000000</td>\n",
       "      <td>13.000000</td>\n",
       "      <td>0.400000</td>\n",
       "      <td>30.000000</td>\n",
       "      <td>23.000000</td>\n",
       "      <td>4.000000</td>\n",
       "    </tr>\n",
       "    <tr>\n",
       "      <th>75%</th>\n",
       "      <td>270.000000</td>\n",
       "      <td>15.000000</td>\n",
       "      <td>0.400000</td>\n",
       "      <td>30.000000</td>\n",
       "      <td>24.000000</td>\n",
       "      <td>5.000000</td>\n",
       "    </tr>\n",
       "    <tr>\n",
       "      <th>max</th>\n",
       "      <td>330.000000</td>\n",
       "      <td>21.000000</td>\n",
       "      <td>0.500000</td>\n",
       "      <td>36.000000</td>\n",
       "      <td>28.000000</td>\n",
       "      <td>8.000000</td>\n",
       "    </tr>\n",
       "  </tbody>\n",
       "</table>\n",
       "</div>"
      ],
      "text/plain": [
       "         Calories  Total Fat (g)  Trans Fat (g)  Carbohydrates (g)  \\\n",
       "count   17.000000      17.000000      17.000000          17.000000   \n",
       "mean   253.529412      13.352941       0.388235          29.529412   \n",
       "std     34.630401       3.180825       0.060025           2.527787   \n",
       "min    200.000000       9.000000       0.200000          24.000000   \n",
       "25%    230.000000      11.000000       0.400000          29.000000   \n",
       "50%    250.000000      13.000000       0.400000          30.000000   \n",
       "75%    270.000000      15.000000       0.400000          30.000000   \n",
       "max    330.000000      21.000000       0.500000          36.000000   \n",
       "\n",
       "       Sugars (g)  Protein (g)  \n",
       "count   17.000000    17.000000  \n",
       "mean    22.588235     4.647059  \n",
       "std      2.450990     1.057188  \n",
       "min     19.000000     4.000000  \n",
       "25%     20.000000     4.000000  \n",
       "50%     23.000000     4.000000  \n",
       "75%     24.000000     5.000000  \n",
       "max     28.000000     8.000000  "
      ]
     },
     "execution_count": 126,
     "metadata": {},
     "output_type": "execute_result"
    }
   ],
   "source": [
    "C3.describe()"
   ]
  },
  {
   "cell_type": "code",
   "execution_count": 151,
   "id": "fcb5aa89-b12a-4b28-b155-6bc3269527d1",
   "metadata": {},
   "outputs": [
    {
     "data": {
      "image/png": "[encoded data removed]",
      "text/plain": [
       "<Figure size 640x480 with 1 Axes>"
      ]
     },
     "metadata": {},
     "output_type": "display_data"
    }
   ],
   "source": [
    "sns.histplot(data=C3, x='Sugars (g)', color='blue', label='Cluster 3')\n",
    "plt.legend()\n",
    "plt.show()"
   ]
  },
  {
   "cell_type": "code",
   "execution_count": 182,
   "id": "af740d09-c726-48ba-a894-b33e276aa827",
   "metadata": {},
   "outputs": [
    {
     "data": {
      "text/plain": [
       "22.58823529411765"
      ]
     },
     "execution_count": 182,
     "metadata": {},
     "output_type": "execute_result"
    }
   ],
   "source": [
    "C3['Sugars (g)'].mean()"
   ]
  },
  {
   "cell_type": "code",
   "execution_count": 184,
   "id": "36b681c7-78dc-4f2a-aedb-92c1303e7fe1",
   "metadata": {},
   "outputs": [
    {
     "data": {
      "text/plain": [
       "<Axes: >"
      ]
     },
     "execution_count": 184,
     "metadata": {},
     "output_type": "execute_result"
    },
    {
     "data": {
      "image/png": "[encoded data removed]",
      "text/plain": [
       "<Figure size 640x480 with 1 Axes>"
      ]
     },
     "metadata": {},
     "output_type": "display_data"
    }
   ],
   "source": [
    "C3['Sugars (g)'].hist()"
   ]
  },
  {
   "cell_type": "markdown",
   "id": "448760a3-c29d-4133-b9af-fbfafdb53e48",
   "metadata": {},
   "source": [
    "#### The mean sugar values for each cluster indicate differences in sugar content among the groups:\n",
    "\n",
    "#### Cluster C1 has a mean sugar content of approximately 17.1 grams, suggesting it represents items with moderate sugar levels. And its histogram shows a gradual increase of sugar consumption. \n",
    "#### Cluster C2 has a lower mean sugar content of around 14.6 grams, identifying it as the group with the lowest sugar levels. Its histogram shows more spread out comsumption of sugar.\n",
    "#### Cluster C3 has the highest mean sugar content at about 22.6 grams, indicating that it contains items with the most sugar. Its histogram shows high counts of comsumption of high amounts of sugar.\n",
    "\n",
    "#### These distinctions could help in labeling clusters according to sugar levels, such as \"Moderate Sugar\" for C1, \"Low Sugar\" for C2, and \"High Sugar\" for C3."
   ]
  },
  {
   "cell_type": "markdown",
   "id": "82578963-6d2b-4cf3-ae52-fe680ef1f376",
   "metadata": {},
   "source": [
    "#### Q8"
   ]
  },
  {
   "cell_type": "markdown",
   "id": "b0c6c3a6-067c-443a-96ff-02d5e5f413b9",
   "metadata": {},
   "source": [
    "#### C1 (Moderate Sugar): \"Sweet Balance\"\n",
    "#### C2 (Low Sugar): \"Light & Fit\" \n",
    "#### C3 (High Sugar): \"Sugar Rush\" "
   ]
  }
 ],
 "metadata": {
  "kernelspec": {
   "display_name": "Python 3 (ipykernel)",
   "language": "python",
   "name": "python3"
  },
  "language_info": {
   "codemirror_mode": {
    "name": "ipython",
    "version": 3
   },
   "file_extension": ".py",
   "mimetype": "text/x-python",
   "name": "python",
   "nbconvert_exporter": "python",
   "pygments_lexer": "ipython3",
   "version": "3.12.4"
  }
 },
 "nbformat": 4,
 "nbformat_minor": 5
}
