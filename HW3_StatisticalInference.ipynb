{
 "cells": [
  {
   "cell_type": "markdown",
   "id": "b2bc4cf9-f283-48fc-a71c-c020bcc2c9b1",
   "metadata": {},
   "source": [
    "# HOMEWORK 3\n",
    "## Stastical Inference\n",
    "### Syeda Samah Daniyal, 07838\n",
    "### sd07838@st.habib.edu.pk"
   ]
  },
  {
   "cell_type": "code",
   "execution_count": 4,
   "id": "1ddac07a-e863-48eb-b851-d73278072d2a",
   "metadata": {},
   "outputs": [],
   "source": [
    "import pandas as pd\n",
    "import numpy as np\n",
    "import seaborn as sns\n",
    "import matplotlib.pyplot as plt\n",
    "from scipy import stats"
   ]
  },
  {
   "cell_type": "code",
   "execution_count": 5,
   "id": "0f4fd841-c450-4ffe-978c-db265b4eb6fa",
   "metadata": {},
   "outputs": [
    {
     "data": {
      "text/html": [
       "<div>\n",
       "<style scoped>\n",
       "    .dataframe tbody tr th:only-of-type {\n",
       "        vertical-align: middle;\n",
       "    }\n",
       "\n",
       "    .dataframe tbody tr th {\n",
       "        vertical-align: top;\n",
       "    }\n",
       "\n",
       "    .dataframe thead th {\n",
       "        text-align: right;\n",
       "    }\n",
       "</style>\n",
       "<table border=\"1\" class=\"dataframe\">\n",
       "  <thead>\n",
       "    <tr style=\"text-align: right;\">\n",
       "      <th></th>\n",
       "      <th>id</th>\n",
       "      <th>first_name</th>\n",
       "      <th>last_name</th>\n",
       "      <th>email</th>\n",
       "      <th>gender</th>\n",
       "      <th>part_time_job</th>\n",
       "      <th>absence_days</th>\n",
       "      <th>extracurricular_activities</th>\n",
       "      <th>weekly_self_study_hours</th>\n",
       "      <th>career_aspiration</th>\n",
       "      <th>math_score</th>\n",
       "      <th>history_score</th>\n",
       "      <th>physics_score</th>\n",
       "      <th>chemistry_score</th>\n",
       "      <th>biology_score</th>\n",
       "      <th>english_score</th>\n",
       "      <th>geography_score</th>\n",
       "    </tr>\n",
       "  </thead>\n",
       "  <tbody>\n",
       "    <tr>\n",
       "      <th>0</th>\n",
       "      <td>1</td>\n",
       "      <td>Paul</td>\n",
       "      <td>Casey</td>\n",
       "      <td>paul.casey.1@gslingacademy.com</td>\n",
       "      <td>male</td>\n",
       "      <td>False</td>\n",
       "      <td>3</td>\n",
       "      <td>False</td>\n",
       "      <td>27</td>\n",
       "      <td>Lawyer</td>\n",
       "      <td>73</td>\n",
       "      <td>81</td>\n",
       "      <td>93</td>\n",
       "      <td>97</td>\n",
       "      <td>63</td>\n",
       "      <td>80</td>\n",
       "      <td>87</td>\n",
       "    </tr>\n",
       "    <tr>\n",
       "      <th>1</th>\n",
       "      <td>2</td>\n",
       "      <td>Danielle</td>\n",
       "      <td>Sandoval</td>\n",
       "      <td>danielle.sandoval.2@gslingacademy.com</td>\n",
       "      <td>female</td>\n",
       "      <td>False</td>\n",
       "      <td>2</td>\n",
       "      <td>False</td>\n",
       "      <td>47</td>\n",
       "      <td>Doctor</td>\n",
       "      <td>90</td>\n",
       "      <td>86</td>\n",
       "      <td>96</td>\n",
       "      <td>100</td>\n",
       "      <td>90</td>\n",
       "      <td>88</td>\n",
       "      <td>90</td>\n",
       "    </tr>\n",
       "    <tr>\n",
       "      <th>2</th>\n",
       "      <td>3</td>\n",
       "      <td>Tina</td>\n",
       "      <td>Andrews</td>\n",
       "      <td>tina.andrews.3@gslingacademy.com</td>\n",
       "      <td>female</td>\n",
       "      <td>False</td>\n",
       "      <td>9</td>\n",
       "      <td>True</td>\n",
       "      <td>13</td>\n",
       "      <td>Government Officer</td>\n",
       "      <td>81</td>\n",
       "      <td>97</td>\n",
       "      <td>95</td>\n",
       "      <td>96</td>\n",
       "      <td>65</td>\n",
       "      <td>77</td>\n",
       "      <td>94</td>\n",
       "    </tr>\n",
       "    <tr>\n",
       "      <th>3</th>\n",
       "      <td>4</td>\n",
       "      <td>Tara</td>\n",
       "      <td>Clark</td>\n",
       "      <td>tara.clark.4@gslingacademy.com</td>\n",
       "      <td>female</td>\n",
       "      <td>False</td>\n",
       "      <td>5</td>\n",
       "      <td>False</td>\n",
       "      <td>3</td>\n",
       "      <td>Artist</td>\n",
       "      <td>71</td>\n",
       "      <td>74</td>\n",
       "      <td>88</td>\n",
       "      <td>80</td>\n",
       "      <td>89</td>\n",
       "      <td>63</td>\n",
       "      <td>86</td>\n",
       "    </tr>\n",
       "    <tr>\n",
       "      <th>4</th>\n",
       "      <td>5</td>\n",
       "      <td>Anthony</td>\n",
       "      <td>Campos</td>\n",
       "      <td>anthony.campos.5@gslingacademy.com</td>\n",
       "      <td>male</td>\n",
       "      <td>False</td>\n",
       "      <td>5</td>\n",
       "      <td>False</td>\n",
       "      <td>10</td>\n",
       "      <td>Unknown</td>\n",
       "      <td>84</td>\n",
       "      <td>77</td>\n",
       "      <td>65</td>\n",
       "      <td>65</td>\n",
       "      <td>80</td>\n",
       "      <td>74</td>\n",
       "      <td>76</td>\n",
       "    </tr>\n",
       "    <tr>\n",
       "      <th>...</th>\n",
       "      <td>...</td>\n",
       "      <td>...</td>\n",
       "      <td>...</td>\n",
       "      <td>...</td>\n",
       "      <td>...</td>\n",
       "      <td>...</td>\n",
       "      <td>...</td>\n",
       "      <td>...</td>\n",
       "      <td>...</td>\n",
       "      <td>...</td>\n",
       "      <td>...</td>\n",
       "      <td>...</td>\n",
       "      <td>...</td>\n",
       "      <td>...</td>\n",
       "      <td>...</td>\n",
       "      <td>...</td>\n",
       "      <td>...</td>\n",
       "    </tr>\n",
       "    <tr>\n",
       "      <th>1995</th>\n",
       "      <td>1996</td>\n",
       "      <td>Alan</td>\n",
       "      <td>Reynolds</td>\n",
       "      <td>alan.reynolds.1996@gslingacademy.com</td>\n",
       "      <td>male</td>\n",
       "      <td>False</td>\n",
       "      <td>2</td>\n",
       "      <td>False</td>\n",
       "      <td>30</td>\n",
       "      <td>Construction Engineer</td>\n",
       "      <td>83</td>\n",
       "      <td>77</td>\n",
       "      <td>84</td>\n",
       "      <td>73</td>\n",
       "      <td>75</td>\n",
       "      <td>84</td>\n",
       "      <td>82</td>\n",
       "    </tr>\n",
       "    <tr>\n",
       "      <th>1996</th>\n",
       "      <td>1997</td>\n",
       "      <td>Thomas</td>\n",
       "      <td>Gilbert</td>\n",
       "      <td>thomas.gilbert.1997@gslingacademy.com</td>\n",
       "      <td>male</td>\n",
       "      <td>False</td>\n",
       "      <td>2</td>\n",
       "      <td>False</td>\n",
       "      <td>20</td>\n",
       "      <td>Software Engineer</td>\n",
       "      <td>89</td>\n",
       "      <td>65</td>\n",
       "      <td>73</td>\n",
       "      <td>80</td>\n",
       "      <td>87</td>\n",
       "      <td>67</td>\n",
       "      <td>73</td>\n",
       "    </tr>\n",
       "    <tr>\n",
       "      <th>1997</th>\n",
       "      <td>1998</td>\n",
       "      <td>Madison</td>\n",
       "      <td>Cross</td>\n",
       "      <td>madison.cross.1998@gslingacademy.com</td>\n",
       "      <td>female</td>\n",
       "      <td>False</td>\n",
       "      <td>5</td>\n",
       "      <td>False</td>\n",
       "      <td>14</td>\n",
       "      <td>Software Engineer</td>\n",
       "      <td>97</td>\n",
       "      <td>85</td>\n",
       "      <td>63</td>\n",
       "      <td>93</td>\n",
       "      <td>68</td>\n",
       "      <td>94</td>\n",
       "      <td>78</td>\n",
       "    </tr>\n",
       "    <tr>\n",
       "      <th>1998</th>\n",
       "      <td>1999</td>\n",
       "      <td>Brittany</td>\n",
       "      <td>Compton</td>\n",
       "      <td>brittany.compton.1999@gslingacademy.com</td>\n",
       "      <td>female</td>\n",
       "      <td>True</td>\n",
       "      <td>10</td>\n",
       "      <td>True</td>\n",
       "      <td>5</td>\n",
       "      <td>Business Owner</td>\n",
       "      <td>51</td>\n",
       "      <td>96</td>\n",
       "      <td>72</td>\n",
       "      <td>89</td>\n",
       "      <td>95</td>\n",
       "      <td>88</td>\n",
       "      <td>75</td>\n",
       "    </tr>\n",
       "    <tr>\n",
       "      <th>1999</th>\n",
       "      <td>2000</td>\n",
       "      <td>Natalie</td>\n",
       "      <td>Smith</td>\n",
       "      <td>natalie.smith.2000@gslingacademy.com</td>\n",
       "      <td>female</td>\n",
       "      <td>False</td>\n",
       "      <td>5</td>\n",
       "      <td>False</td>\n",
       "      <td>27</td>\n",
       "      <td>Accountant</td>\n",
       "      <td>82</td>\n",
       "      <td>99</td>\n",
       "      <td>91</td>\n",
       "      <td>69</td>\n",
       "      <td>83</td>\n",
       "      <td>93</td>\n",
       "      <td>100</td>\n",
       "    </tr>\n",
       "  </tbody>\n",
       "</table>\n",
       "<p>2000 rows × 17 columns</p>\n",
       "</div>"
      ],
      "text/plain": [
       "        id first_name last_name                                    email  \\\n",
       "0        1       Paul     Casey           paul.casey.1@gslingacademy.com   \n",
       "1        2   Danielle  Sandoval    danielle.sandoval.2@gslingacademy.com   \n",
       "2        3       Tina   Andrews         tina.andrews.3@gslingacademy.com   \n",
       "3        4       Tara     Clark           tara.clark.4@gslingacademy.com   \n",
       "4        5    Anthony    Campos       anthony.campos.5@gslingacademy.com   \n",
       "...    ...        ...       ...                                      ...   \n",
       "1995  1996       Alan  Reynolds     alan.reynolds.1996@gslingacademy.com   \n",
       "1996  1997     Thomas   Gilbert    thomas.gilbert.1997@gslingacademy.com   \n",
       "1997  1998    Madison     Cross     madison.cross.1998@gslingacademy.com   \n",
       "1998  1999   Brittany   Compton  brittany.compton.1999@gslingacademy.com   \n",
       "1999  2000    Natalie     Smith     natalie.smith.2000@gslingacademy.com   \n",
       "\n",
       "      gender  part_time_job  absence_days  extracurricular_activities  \\\n",
       "0       male          False             3                       False   \n",
       "1     female          False             2                       False   \n",
       "2     female          False             9                        True   \n",
       "3     female          False             5                       False   \n",
       "4       male          False             5                       False   \n",
       "...      ...            ...           ...                         ...   \n",
       "1995    male          False             2                       False   \n",
       "1996    male          False             2                       False   \n",
       "1997  female          False             5                       False   \n",
       "1998  female           True            10                        True   \n",
       "1999  female          False             5                       False   \n",
       "\n",
       "      weekly_self_study_hours      career_aspiration  math_score  \\\n",
       "0                          27                 Lawyer          73   \n",
       "1                          47                 Doctor          90   \n",
       "2                          13     Government Officer          81   \n",
       "3                           3                 Artist          71   \n",
       "4                          10                Unknown          84   \n",
       "...                       ...                    ...         ...   \n",
       "1995                       30  Construction Engineer          83   \n",
       "1996                       20      Software Engineer          89   \n",
       "1997                       14      Software Engineer          97   \n",
       "1998                        5         Business Owner          51   \n",
       "1999                       27             Accountant          82   \n",
       "\n",
       "      history_score  physics_score  chemistry_score  biology_score  \\\n",
       "0                81             93               97             63   \n",
       "1                86             96              100             90   \n",
       "2                97             95               96             65   \n",
       "3                74             88               80             89   \n",
       "4                77             65               65             80   \n",
       "...             ...            ...              ...            ...   \n",
       "1995             77             84               73             75   \n",
       "1996             65             73               80             87   \n",
       "1997             85             63               93             68   \n",
       "1998             96             72               89             95   \n",
       "1999             99             91               69             83   \n",
       "\n",
       "      english_score  geography_score  \n",
       "0                80               87  \n",
       "1                88               90  \n",
       "2                77               94  \n",
       "3                63               86  \n",
       "4                74               76  \n",
       "...             ...              ...  \n",
       "1995             84               82  \n",
       "1996             67               73  \n",
       "1997             94               78  \n",
       "1998             88               75  \n",
       "1999             93              100  \n",
       "\n",
       "[2000 rows x 17 columns]"
      ]
     },
     "execution_count": 5,
     "metadata": {},
     "output_type": "execute_result"
    }
   ],
   "source": [
    "df = pd.read_csv(r\"C:\\Users\\samah\\Downloads\\student-scores.csv\")\n",
    "df"
   ]
  },
  {
   "cell_type": "markdown",
   "id": "465de1e6-ead4-4d4f-a57b-12df65545216",
   "metadata": {},
   "source": [
    "##### Q1. If math_score of males is greater than females.\n",
    "Null Hypothesis (H0): There is no difference in the average math score of males and females.\n",
    "\n",
    "Alternative Hypothesis (Ha): The average math score of males is greater than that of females."
   ]
  },
  {
   "cell_type": "code",
   "execution_count": 7,
   "id": "a2fb1c0d-0d4c-4824-b260-e6b848547df8",
   "metadata": {},
   "outputs": [
    {
     "data": {
      "text/plain": [
       "TtestResult(statistic=2.2371559026936256, pvalue=0.012693020299630226, df=1998.0)"
      ]
     },
     "execution_count": 7,
     "metadata": {},
     "output_type": "execute_result"
    }
   ],
   "source": [
    "male_math_scores = df[df['gender'] == 'male']['math_score']\n",
    "female_math_scores = df[df['gender'] == 'female']['math_score']\n",
    "\n",
    "stats.ttest_ind(male_math_scores, female_math_scores, alternative='greater')"
   ]
  },
  {
   "cell_type": "markdown",
   "id": "475b60b1-429e-41b9-8c0b-87dc4bf16e73",
   "metadata": {},
   "source": [
    "Since p value <0.05, we reject the null hypothesis hence statistically proving that males have a greater math score than females."
   ]
  },
  {
   "cell_type": "markdown",
   "id": "24ab092e-bede-4bb7-b92d-a56b6daa2256",
   "metadata": {},
   "source": [
    "##### Q2. If math_score of Non Doctors is greater than Doctors (Hint: Use career_aspirations to find Doctor and Non Doctors).\n",
    "Null Hypothesis (H0): The average math score of Non-Doctors is not greater than that of Doctors.\n",
    "\n",
    "Alternative Hypothesis (Ha): The average math score of Non-Doctors is greater than the average math score of Doctors. "
   ]
  },
  {
   "cell_type": "code",
   "execution_count": 10,
   "id": "a3f4fc96-7ad7-41b3-8f75-820bd827e338",
   "metadata": {},
   "outputs": [
    {
     "data": {
      "text/plain": [
       "TtestResult(statistic=-7.389083205876682, pvalue=0.999999999999892, df=1998.0)"
      ]
     },
     "execution_count": 10,
     "metadata": {},
     "output_type": "execute_result"
    }
   ],
   "source": [
    "doctor_math_scores = df[df['career_aspiration'] == 'Doctor']['math_score']\n",
    "non_doctor_math_scores = df[df['career_aspiration'] != 'Doctor']['math_score']\n",
    "\n",
    "stats.ttest_ind(non_doctor_math_scores, doctor_math_scores, alternative='greater')"
   ]
  },
  {
   "cell_type": "markdown",
   "id": "3c908045-bdf0-435a-ba7a-6570679f18d7",
   "metadata": {},
   "source": [
    "Since p value is >0.5, we accept the null hypothesis. Hence the math score of non-doctors is not greater than that of doctors."
   ]
  },
  {
   "cell_type": "markdown",
   "id": "66bd2836-b4ba-40cf-b9a5-4e5c85deca14",
   "metadata": {},
   "source": [
    "##### Q3. If weekly_self_study_hours of males are greater than females.\n",
    "Null Hypothesis (H0): There is no difference between the average weekly self-study hours of males and those of females.\n",
    "\n",
    "Alternative Hypothesis (Ha): The average weekly self-study hours of males are greater than those of females. "
   ]
  },
  {
   "cell_type": "code",
   "execution_count": 13,
   "id": "18b189ed-b77c-4116-a34a-00d8dc8aae0a",
   "metadata": {},
   "outputs": [
    {
     "data": {
      "text/plain": [
       "TtestResult(statistic=3.4567831650474443, pvalue=0.00027905018418441824, df=1998.0)"
      ]
     },
     "execution_count": 13,
     "metadata": {},
     "output_type": "execute_result"
    }
   ],
   "source": [
    "male_study_hours = df[df['gender'] == 'male']['weekly_self_study_hours']\n",
    "female_study_hours = df[df['gender'] == 'female']['weekly_self_study_hours']\n",
    "\n",
    "stats.ttest_ind(male_study_hours, female_study_hours, alternative='greater')"
   ]
  },
  {
   "cell_type": "markdown",
   "id": "d109bdbf-1ffa-4b8c-b436-0016f8c44b52",
   "metadata": {},
   "source": [
    "Since p value <0.05, we reject the null hypothesis. Hence, the weekly self study hours of males are greater than those of females."
   ]
  },
  {
   "cell_type": "markdown",
   "id": "fe7895b5-26fb-453a-aa16-8497757df2b2",
   "metadata": {},
   "source": [
    "##### Q4. If math_score of no part_time_job male students are greater than part_time_job male \n",
    "student.\n",
    "\n",
    "Null Hypothesis (H0): There is no difference in the average math score of male students without part-time jobs and with part-time jobs.\n",
    "\n",
    "Alternative Hypothesis (Ha): The average math score of male students without part-time jobs is greater than those with part-time jobs."
   ]
  },
  {
   "cell_type": "code",
   "execution_count": 16,
   "id": "d5c64bf5-4bc9-4909-9e1b-8c572085afc2",
   "metadata": {},
   "outputs": [
    {
     "data": {
      "text/plain": [
       "TtestResult(statistic=5.8026672393780085, pvalue=4.3820239750124745e-09, df=996.0)"
      ]
     },
     "execution_count": 16,
     "metadata": {},
     "output_type": "execute_result"
    }
   ],
   "source": [
    "no_job_male_math = df[(df['gender'] == 'male') & (df['part_time_job'] == False)]['math_score']\n",
    "job_male_math = df[(df['gender'] == 'male') & (df['part_time_job'] == True)]['math_score']\n",
    "\n",
    "stats.ttest_ind(no_job_male_math, job_male_math, alternative='greater')"
   ]
  },
  {
   "cell_type": "markdown",
   "id": "42376bc7-ba21-400d-b086-0215e159233c",
   "metadata": {},
   "source": [
    "Since p value <0.05, we reject the null hypothesis. Hence the math score of male students without part-time jobs is greater than those with part-time jobs."
   ]
  },
  {
   "cell_type": "markdown",
   "id": "9288d0d7-7594-4225-b517-c15a6db34930",
   "metadata": {},
   "source": [
    "##### Q5. If the average of history_score is less than geography_score.\n",
    "Null Hypothesis (H0): The average history score is not less than the geography score.\n",
    "\n",
    "Alternative Hypothesis (Ha): The average history score is less than the average geography score."
   ]
  },
  {
   "cell_type": "code",
   "execution_count": 19,
   "id": "71643eae-2413-40d3-b6ee-9d854c6be302",
   "metadata": {},
   "outputs": [
    {
     "data": {
      "text/plain": [
       "TtestResult(statistic=-1.4412586066465385, pvalue=0.07479497633658547, df=3998.0)"
      ]
     },
     "execution_count": 19,
     "metadata": {},
     "output_type": "execute_result"
    }
   ],
   "source": [
    "history_scores = df['history_score']\n",
    "geography_scores = df['geography_score']\n",
    "\n",
    "stats.ttest_ind(history_scores, geography_scores, alternative='less')"
   ]
  },
  {
   "cell_type": "markdown",
   "id": "26a26091-5bf6-4893-a0f6-1e67723bfcdc",
   "metadata": {},
   "source": [
    "Since p value >0.05, we accept the null hypothesis. Hence, the average history score is not less than the average geography score."
   ]
  },
  {
   "cell_type": "markdown",
   "id": "22c9dbf0-229a-4a36-a799-7641af096c7c",
   "metadata": {},
   "source": [
    "##### Q6. If the average of math_score is greater than biology_score.\n",
    "Null Hypothesis (H0): There is no difference in the average math score and the average biology score.\n",
    "\n",
    "Alternative Hypothesis (Ha): The average math score is greater than the average biology score."
   ]
  },
  {
   "cell_type": "code",
   "execution_count": 56,
   "id": "eac8fcda-123b-4302-8cae-4bf88574860e",
   "metadata": {},
   "outputs": [
    {
     "data": {
      "text/plain": [
       "TtestResult(statistic=9.082620143235266, pvalue=8.146293509285797e-20, df=3998.0)"
      ]
     },
     "execution_count": 56,
     "metadata": {},
     "output_type": "execute_result"
    }
   ],
   "source": [
    "math_scores = df['math_score']\n",
    "biology_scores = df['biology_score']\n",
    "\n",
    "stats.ttest_ind(math_scores, biology_scores, alternative='greater')"
   ]
  },
  {
   "cell_type": "markdown",
   "id": "0cee89de-b345-4fcc-b993-7a5e4a1c9a49",
   "metadata": {},
   "source": [
    "Since p value <0.05, we reject the null hypothesis. Hence, the average math score is greater than the average biology score."
   ]
  },
  {
   "cell_type": "markdown",
   "id": "ba92837f-772e-48c6-b2d8-29f17d5fd50e",
   "metadata": {},
   "source": [
    "##### Q7. If weekly_self_study_hours of extracurricular_activities is less than no extracurricular activities.\n",
    "\n",
    "Null Hypothesis (H0): There is no difference in the average weekly self-study hours of students with extracurricular activities and students without extracurricular activities.\n",
    "\n",
    "Alternative Hypothesis (Ha): The average weekly self-study hours of students with extracurricular activities are  less than those without extracurricular activities."
   ]
  },
  {
   "cell_type": "code",
   "execution_count": 25,
   "id": "6aec4b0a-bc4f-41b7-8be8-686d84bddfbf",
   "metadata": {},
   "outputs": [
    {
     "data": {
      "text/plain": [
       "TtestResult(statistic=-2.3506159912870577, pvalue=0.009419553161020007, df=1998.0)"
      ]
     },
     "execution_count": 25,
     "metadata": {},
     "output_type": "execute_result"
    }
   ],
   "source": [
    "extracurricular_hours = df[df['extracurricular_activities'] == True]['weekly_self_study_hours']\n",
    "no_extracurricular_hours = df[df['extracurricular_activities'] == False]['weekly_self_study_hours']\n",
    "\n",
    "stats.ttest_ind(extracurricular_hours, no_extracurricular_hours, alternative='less')"
   ]
  },
  {
   "cell_type": "markdown",
   "id": "6f0300d2-194e-4ec5-a678-cdc18f067b3f",
   "metadata": {},
   "source": [
    "Since p value <0.05, we reject the null hypothesis. Hence, the weekly study hours of those with extracurricular activities are less than those with no extracurricular activities."
   ]
  },
  {
   "cell_type": "markdown",
   "id": "97aff777-5071-4864-b07d-2b0e5f7221d3",
   "metadata": {},
   "source": [
    "##### Q8. If absence_days of females are less than males. \n",
    "Null Hypothesis (H0): The the average absence days of females are not less than those of males.\n",
    "\n",
    "Alternative Hypothesis (Ha): The average absence days of females are less than those of males."
   ]
  },
  {
   "cell_type": "code",
   "execution_count": 28,
   "id": "05e34661-0476-42ae-b0c6-781cbc39f5f0",
   "metadata": {},
   "outputs": [
    {
     "data": {
      "text/plain": [
       "TtestResult(statistic=1.3128102331149203, pvalue=0.9053011661354035, df=1998.0)"
      ]
     },
     "execution_count": 28,
     "metadata": {},
     "output_type": "execute_result"
    }
   ],
   "source": [
    "male_absence_days = df[df['gender'] == 'male']['absence_days']\n",
    "female_absence_days = df[df['gender'] == 'female']['absence_days']\n",
    "\n",
    "stats.ttest_ind(female_absence_days, male_absence_days, alternative='less')"
   ]
  },
  {
   "cell_type": "markdown",
   "id": "2852ba3b-577d-4951-8c0c-772e378248f6",
   "metadata": {},
   "source": [
    "Since p value >0.05, we accept the null hypothesis. Hence, the average absence days of females are not less than those of males."
   ]
  },
  {
   "cell_type": "markdown",
   "id": "c0f94cf0-6663-4715-918e-83df67284ee6",
   "metadata": {},
   "source": [
    "##### Q9. Is there any Association between gender and career_aspiration.\n",
    "Null Hypothesis (H0): There is no association between gender and career aspiration.\n",
    "\n",
    "Alternative Hypothesis (Ha): There is an association between gender and career aspiration."
   ]
  },
  {
   "cell_type": "code",
   "execution_count": 31,
   "id": "f01f50a9-1a28-408b-a909-ffe6c5d4a976",
   "metadata": {},
   "outputs": [
    {
     "data": {
      "text/html": [
       "<div>\n",
       "<style scoped>\n",
       "    .dataframe tbody tr th:only-of-type {\n",
       "        vertical-align: middle;\n",
       "    }\n",
       "\n",
       "    .dataframe tbody tr th {\n",
       "        vertical-align: top;\n",
       "    }\n",
       "\n",
       "    .dataframe thead th {\n",
       "        text-align: right;\n",
       "    }\n",
       "</style>\n",
       "<table border=\"1\" class=\"dataframe\">\n",
       "  <thead>\n",
       "    <tr style=\"text-align: right;\">\n",
       "      <th>career_aspiration</th>\n",
       "      <th>Accountant</th>\n",
       "      <th>Artist</th>\n",
       "      <th>Banker</th>\n",
       "      <th>Business Owner</th>\n",
       "      <th>Construction Engineer</th>\n",
       "      <th>Designer</th>\n",
       "      <th>Doctor</th>\n",
       "      <th>Game Developer</th>\n",
       "      <th>Government Officer</th>\n",
       "      <th>Lawyer</th>\n",
       "      <th>Real Estate Developer</th>\n",
       "      <th>Scientist</th>\n",
       "      <th>Software Engineer</th>\n",
       "      <th>Stock Investor</th>\n",
       "      <th>Teacher</th>\n",
       "      <th>Unknown</th>\n",
       "      <th>Writer</th>\n",
       "      <th>All</th>\n",
       "    </tr>\n",
       "    <tr>\n",
       "      <th>gender</th>\n",
       "      <th></th>\n",
       "      <th></th>\n",
       "      <th></th>\n",
       "      <th></th>\n",
       "      <th></th>\n",
       "      <th></th>\n",
       "      <th></th>\n",
       "      <th></th>\n",
       "      <th></th>\n",
       "      <th></th>\n",
       "      <th></th>\n",
       "      <th></th>\n",
       "      <th></th>\n",
       "      <th></th>\n",
       "      <th></th>\n",
       "      <th></th>\n",
       "      <th></th>\n",
       "      <th></th>\n",
       "    </tr>\n",
       "  </thead>\n",
       "  <tbody>\n",
       "    <tr>\n",
       "      <th>female</th>\n",
       "      <td>64</td>\n",
       "      <td>42</td>\n",
       "      <td>103</td>\n",
       "      <td>164</td>\n",
       "      <td>0</td>\n",
       "      <td>32</td>\n",
       "      <td>53</td>\n",
       "      <td>31</td>\n",
       "      <td>31</td>\n",
       "      <td>66</td>\n",
       "      <td>45</td>\n",
       "      <td>19</td>\n",
       "      <td>141</td>\n",
       "      <td>25</td>\n",
       "      <td>59</td>\n",
       "      <td>109</td>\n",
       "      <td>18</td>\n",
       "      <td>1002</td>\n",
       "    </tr>\n",
       "    <tr>\n",
       "      <th>male</th>\n",
       "      <td>62</td>\n",
       "      <td>25</td>\n",
       "      <td>66</td>\n",
       "      <td>145</td>\n",
       "      <td>68</td>\n",
       "      <td>24</td>\n",
       "      <td>66</td>\n",
       "      <td>32</td>\n",
       "      <td>30</td>\n",
       "      <td>72</td>\n",
       "      <td>38</td>\n",
       "      <td>20</td>\n",
       "      <td>174</td>\n",
       "      <td>48</td>\n",
       "      <td>0</td>\n",
       "      <td>114</td>\n",
       "      <td>14</td>\n",
       "      <td>998</td>\n",
       "    </tr>\n",
       "    <tr>\n",
       "      <th>All</th>\n",
       "      <td>126</td>\n",
       "      <td>67</td>\n",
       "      <td>169</td>\n",
       "      <td>309</td>\n",
       "      <td>68</td>\n",
       "      <td>56</td>\n",
       "      <td>119</td>\n",
       "      <td>63</td>\n",
       "      <td>61</td>\n",
       "      <td>138</td>\n",
       "      <td>83</td>\n",
       "      <td>39</td>\n",
       "      <td>315</td>\n",
       "      <td>73</td>\n",
       "      <td>59</td>\n",
       "      <td>223</td>\n",
       "      <td>32</td>\n",
       "      <td>2000</td>\n",
       "    </tr>\n",
       "  </tbody>\n",
       "</table>\n",
       "</div>"
      ],
      "text/plain": [
       "career_aspiration  Accountant  Artist  Banker  Business Owner  \\\n",
       "gender                                                          \n",
       "female                     64      42     103             164   \n",
       "male                       62      25      66             145   \n",
       "All                       126      67     169             309   \n",
       "\n",
       "career_aspiration  Construction Engineer  Designer  Doctor  Game Developer  \\\n",
       "gender                                                                       \n",
       "female                                 0        32      53              31   \n",
       "male                                  68        24      66              32   \n",
       "All                                   68        56     119              63   \n",
       "\n",
       "career_aspiration  Government Officer  Lawyer  Real Estate Developer  \\\n",
       "gender                                                                 \n",
       "female                             31      66                     45   \n",
       "male                               30      72                     38   \n",
       "All                                61     138                     83   \n",
       "\n",
       "career_aspiration  Scientist  Software Engineer  Stock Investor  Teacher  \\\n",
       "gender                                                                     \n",
       "female                    19                141              25       59   \n",
       "male                      20                174              48        0   \n",
       "All                       39                315              73       59   \n",
       "\n",
       "career_aspiration  Unknown  Writer   All  \n",
       "gender                                    \n",
       "female                 109      18  1002  \n",
       "male                   114      14   998  \n",
       "All                    223      32  2000  "
      ]
     },
     "execution_count": 31,
     "metadata": {},
     "output_type": "execute_result"
    }
   ],
   "source": [
    "chisqt = pd.crosstab(df['gender'], df['career_aspiration'], margins=True)\n",
    "chisqt"
   ]
  },
  {
   "cell_type": "code",
   "execution_count": 32,
   "id": "b7aea637-2f76-4bf6-9a9b-075007215567",
   "metadata": {},
   "outputs": [
    {
     "data": {
      "text/plain": [
       "Chi2ContingencyResult(statistic=155.39466648000175, pvalue=1.9087221746002932e-17, dof=34, expected_freq=array([[  63.126,   33.567,   84.669,  154.809,   34.068,   28.056,\n",
       "          59.619,   31.563,   30.561,   69.138,   41.583,   19.539,\n",
       "         157.815,   36.573,   29.559,  111.723,   16.032, 1002.   ],\n",
       "       [  62.874,   33.433,   84.331,  154.191,   33.932,   27.944,\n",
       "          59.381,   31.437,   30.439,   68.862,   41.417,   19.461,\n",
       "         157.185,   36.427,   29.441,  111.277,   15.968,  998.   ],\n",
       "       [ 126.   ,   67.   ,  169.   ,  309.   ,   68.   ,   56.   ,\n",
       "         119.   ,   63.   ,   61.   ,  138.   ,   83.   ,   39.   ,\n",
       "         315.   ,   73.   ,   59.   ,  223.   ,   32.   , 2000.   ]]))"
      ]
     },
     "execution_count": 32,
     "metadata": {},
     "output_type": "execute_result"
    }
   ],
   "source": [
    "stats.chi2_contingency(chisqt)"
   ]
  },
  {
   "cell_type": "code",
   "execution_count": 33,
   "id": "3ecd5b37-0f20-4f3b-a44b-30ef58389536",
   "metadata": {},
   "outputs": [
    {
     "data": {
      "text/plain": [
       "(155.39466648000175, 1.9087221746002932e-17)"
      ]
     },
     "execution_count": 33,
     "metadata": {},
     "output_type": "execute_result"
    }
   ],
   "source": [
    "chi2, p, dof, ex = stats.chi2_contingency(chisqt)\n",
    "chi2, p"
   ]
  },
  {
   "cell_type": "markdown",
   "id": "bb08cf49-ded0-441a-ab4a-6f9869293b5d",
   "metadata": {},
   "source": [
    "Since the value of p <0.05, we reject the null hypothesis. Hence, there is an association between gender and career aspiration."
   ]
  },
  {
   "cell_type": "markdown",
   "id": "d2b70349-85f8-4437-9727-9dd72d346a54",
   "metadata": {},
   "source": [
    "##### Q10. Is there any Association between gender and part_time_job.\n",
    "Null Hypothesis (H0): There is no association between gender and part-time job status.\n",
    "\n",
    "Alternative Hypothesis (Ha): There is an association between gender and part-time job status."
   ]
  },
  {
   "cell_type": "code",
   "execution_count": 36,
   "id": "c6fa4680-626d-4743-ad93-89903dca1a8d",
   "metadata": {},
   "outputs": [
    {
     "data": {
      "text/html": [
       "<div>\n",
       "<style scoped>\n",
       "    .dataframe tbody tr th:only-of-type {\n",
       "        vertical-align: middle;\n",
       "    }\n",
       "\n",
       "    .dataframe tbody tr th {\n",
       "        vertical-align: top;\n",
       "    }\n",
       "\n",
       "    .dataframe thead th {\n",
       "        text-align: right;\n",
       "    }\n",
       "</style>\n",
       "<table border=\"1\" class=\"dataframe\">\n",
       "  <thead>\n",
       "    <tr style=\"text-align: right;\">\n",
       "      <th>part_time_job</th>\n",
       "      <th>False</th>\n",
       "      <th>True</th>\n",
       "      <th>All</th>\n",
       "    </tr>\n",
       "    <tr>\n",
       "      <th>gender</th>\n",
       "      <th></th>\n",
       "      <th></th>\n",
       "      <th></th>\n",
       "    </tr>\n",
       "  </thead>\n",
       "  <tbody>\n",
       "    <tr>\n",
       "      <th>female</th>\n",
       "      <td>835</td>\n",
       "      <td>167</td>\n",
       "      <td>1002</td>\n",
       "    </tr>\n",
       "    <tr>\n",
       "      <th>male</th>\n",
       "      <td>849</td>\n",
       "      <td>149</td>\n",
       "      <td>998</td>\n",
       "    </tr>\n",
       "    <tr>\n",
       "      <th>All</th>\n",
       "      <td>1684</td>\n",
       "      <td>316</td>\n",
       "      <td>2000</td>\n",
       "    </tr>\n",
       "  </tbody>\n",
       "</table>\n",
       "</div>"
      ],
      "text/plain": [
       "part_time_job  False  True   All\n",
       "gender                          \n",
       "female           835   167  1002\n",
       "male             849   149   998\n",
       "All             1684   316  2000"
      ]
     },
     "execution_count": 36,
     "metadata": {},
     "output_type": "execute_result"
    }
   ],
   "source": [
    "chisqt2 = pd.crosstab(df['gender'], df['part_time_job'], margins=True)\n",
    "chisqt2"
   ]
  },
  {
   "cell_type": "code",
   "execution_count": 37,
   "id": "ea244491-6b0f-43c2-8e43-ddb5e91abf8f",
   "metadata": {},
   "outputs": [
    {
     "data": {
      "text/plain": [
       "Chi2ContingencyResult(statistic=1.1337105392319442, pvalue=0.8888874344046543, dof=4, expected_freq=array([[ 843.684,  158.316, 1002.   ],\n",
       "       [ 840.316,  157.684,  998.   ],\n",
       "       [1684.   ,  316.   , 2000.   ]]))"
      ]
     },
     "execution_count": 37,
     "metadata": {},
     "output_type": "execute_result"
    }
   ],
   "source": [
    "stats.chi2_contingency(chisqt2)"
   ]
  },
  {
   "cell_type": "code",
   "execution_count": 38,
   "id": "87bed486-ab49-4f78-8a9e-c90e87a2efc5",
   "metadata": {},
   "outputs": [
    {
     "data": {
      "text/plain": [
       "(1.1337105392319442, 0.8888874344046543)"
      ]
     },
     "execution_count": 38,
     "metadata": {},
     "output_type": "execute_result"
    }
   ],
   "source": [
    "chi2, p, dof, ex = stats.chi2_contingency(chisqt2)\n",
    "chi2, p"
   ]
  },
  {
   "cell_type": "markdown",
   "id": "15cace91-f88a-4cd1-9a08-3afea9237a56",
   "metadata": {},
   "source": [
    "Since the value of p >0.05, we accept the null hypothesis. Hence, there is no association between gender and part-time job status."
   ]
  }
 ],
 "metadata": {
  "kernelspec": {
   "display_name": "Python 3 (ipykernel)",
   "language": "python",
   "name": "python3"
  },
  "language_info": {
   "codemirror_mode": {
    "name": "ipython",
    "version": 3
   },
   "file_extension": ".py",
   "mimetype": "text/x-python",
   "name": "python",
   "nbconvert_exporter": "python",
   "pygments_lexer": "ipython3",
   "version": "3.12.4"
  }
 },
 "nbformat": 4,
 "nbformat_minor": 5
}
