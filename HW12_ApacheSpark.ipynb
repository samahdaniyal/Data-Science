{
  "cells": [
    {
      "cell_type": "markdown",
      "metadata": {
        "application/vnd.databricks.v1+cell": {
          "cellMetadata": {},
          "inputWidgets": {},
          "nuid": "998874f6-f184-424a-82bc-95c959ac5de0",
          "showTitle": false,
          "tableResultSettingsMap": {},
          "title": ""
        },
        "id": "TKxBJ11CdQ3l"
      },
      "source": [
        "### Syeda Samah Daniyal, 07838"
      ]
    },
    {
      "cell_type": "code",
      "execution_count": 96,
      "metadata": {
        "application/vnd.databricks.v1+cell": {
          "cellMetadata": {
            "byteLimit": 2048000,
            "rowLimit": 10000
          },
          "inputWidgets": {},
          "nuid": "995767c2-8fbe-4a7d-80ac-3109c45de204",
          "showTitle": false,
          "tableResultSettingsMap": {},
          "title": ""
        },
        "id": "I08BOd0SdQ3n"
      },
      "outputs": [],
      "source": [
        "from pyspark import SparkConf, SparkContext\n",
        "from pyspark.sql import SQLContext, SparkSession\n",
        "\n",
        "# sc is the Spark Context already available at databricks, so we do not need to create it again.\n",
        "# sc = SparkContext()\n",
        "# sqlContext = SQLContext(sc)\n",
        "\n",
        "# from pyspark.sql import SparkSession\n",
        "sqlContext = SparkSession.builder.appName('abc').getOrCreate()"
      ]
    },
    {
      "cell_type": "markdown",
      "metadata": {
        "application/vnd.databricks.v1+cell": {
          "cellMetadata": {},
          "inputWidgets": {},
          "nuid": "dad83ce3-0a95-468b-be6b-eeb20a725806",
          "showTitle": false,
          "tableResultSettingsMap": {},
          "title": ""
        },
        "id": "Q7NlkLxJdQ3q"
      },
      "source": [
        "# Creating RDD (Resilient Distributed Dataset) - fundamental data structure of Spark"
      ]
    },
    {
      "cell_type": "code",
      "execution_count": 97,
      "metadata": {
        "application/vnd.databricks.v1+cell": {
          "cellMetadata": {
            "byteLimit": 2048000,
            "rowLimit": 10000
          },
          "inputWidgets": {},
          "nuid": "85a92d7d-862a-43da-a8e8-c1505a52225f",
          "showTitle": false,
          "tableResultSettingsMap": {},
          "title": ""
        },
        "id": "icdXVCe2dQ3q"
      },
      "outputs": [],
      "source": [
        "products = sc.textFile(\"SalesData.txt\")"
      ]
    },
    {
      "cell_type": "code",
      "execution_count": 98,
      "metadata": {
        "application/vnd.databricks.v1+cell": {
          "cellMetadata": {
            "byteLimit": 2048000,
            "rowLimit": 10000
          },
          "inputWidgets": {},
          "nuid": "2aa738f2-f4d1-4901-aad0-d5a8ee807c89",
          "showTitle": false,
          "tableResultSettingsMap": {},
          "title": ""
        },
        "colab": {
          "base_uri": "https://localhost:8080/",
          "height": 52
        },
        "id": "od0kmvmvdQ3q",
        "outputId": "907098e5-9cbd-4bb8-ef80-1991de0000dd"
      },
      "outputs": [
        {
          "output_type": "execute_result",
          "data": {
            "text/plain": [
              "'ProductID\\tName\\tProductNumber\\tColor\\tStandardCost\\tListPrice\\tSize\\tWeight\\tProductCategoryID\\tProductModelID\\tSellStartDate\\tSellEndDate\\tDiscontinuedDate\\tThumbNailPhoto\\tThumbnailPhotoFileName\\trowguid\\tModifiedDate'"
            ],
            "application/vnd.google.colaboratory.intrinsic+json": {
              "type": "string"
            }
          },
          "metadata": {},
          "execution_count": 98
        }
      ],
      "source": [
        "products.first()"
      ]
    },
    {
      "cell_type": "code",
      "execution_count": 99,
      "metadata": {
        "application/vnd.databricks.v1+cell": {
          "cellMetadata": {
            "byteLimit": 2048000,
            "rowLimit": 10000
          },
          "inputWidgets": {},
          "nuid": "1d226610-9a0e-4915-9861-82c2b2163b0c",
          "showTitle": false,
          "tableResultSettingsMap": {},
          "title": ""
        },
        "colab": {
          "base_uri": "https://localhost:8080/"
        },
        "id": "eKQeY5EVdQ3q",
        "outputId": "3d38f655-e779-4e24-b300-2ea8cfc3242e"
      },
      "outputs": [
        {
          "output_type": "stream",
          "name": "stdout",
          "text": [
            "The data has 17 columns\n"
          ]
        },
        {
          "output_type": "execute_result",
          "data": {
            "text/plain": [
              "['ProductID',\n",
              " 'Name',\n",
              " 'ProductNumber',\n",
              " 'Color',\n",
              " 'StandardCost',\n",
              " 'ListPrice',\n",
              " 'Size',\n",
              " 'Weight',\n",
              " 'ProductCategoryID',\n",
              " 'ProductModelID',\n",
              " 'SellStartDate',\n",
              " 'SellEndDate',\n",
              " 'DiscontinuedDate',\n",
              " 'ThumbNailPhoto',\n",
              " 'ThumbnailPhotoFileName',\n",
              " 'rowguid',\n",
              " 'ModifiedDate']"
            ]
          },
          "metadata": {},
          "execution_count": 99
        }
      ],
      "source": [
        "print(\"The data has {} columns\".format(len(products.first().split(\"\\t\"))))\n",
        "header = products.first().split(\"\\t\")\n",
        "header"
      ]
    },
    {
      "cell_type": "code",
      "execution_count": 100,
      "metadata": {
        "application/vnd.databricks.v1+cell": {
          "cellMetadata": {
            "byteLimit": 2048000,
            "rowLimit": 10000
          },
          "inputWidgets": {},
          "nuid": "ae301838-99e7-4a98-9531-f399521e6e46",
          "showTitle": false,
          "tableResultSettingsMap": {},
          "title": ""
        },
        "id": "8SGD_KbjdQ3r"
      },
      "outputs": [],
      "source": [
        "head = products.first()\n",
        "content = products.filter(lambda line: line != head)"
      ]
    },
    {
      "cell_type": "code",
      "execution_count": 101,
      "metadata": {
        "application/vnd.databricks.v1+cell": {
          "cellMetadata": {
            "byteLimit": 2048000,
            "rowLimit": 10000
          },
          "inputWidgets": {},
          "nuid": "b25629db-cfa9-4fd9-93fb-a1dc0fe5a044",
          "showTitle": false,
          "tableResultSettingsMap": {},
          "title": ""
        },
        "colab": {
          "base_uri": "https://localhost:8080/",
          "height": 87
        },
        "id": "79JBdIXhdQ3r",
        "outputId": "475f5b69-357f-49de-9bfb-b7e221c8a35e"
      },
      "outputs": [
        {
          "output_type": "execute_result",
          "data": {
            "text/plain": [
              "'680\\tHL Road Frame - Black, 58\\tFR-R92B-58\\tBlack\\t1059.31\\t1431.50\\t58\\t1016.04\\t18\\t6\\t1998-06-01 00:00:00.000\\tNULL\\tNULL\\t0x47494638396150003100F70000000000800000008000808000000080800080008080808080C0C0C0FF000000FF00FFFF000000FFFF00FF00FFFFFFFFFF000000000000000000000000000000000000000000000000000000000000000000000000000000000000000000000000000000000000000000000000000000000000\\tno_image_available_small.gif\\t43DD68D6-14A4-461F-9069-55309D90EA7E\\t2004-03-11 10:01:36.827'"
            ],
            "application/vnd.google.colaboratory.intrinsic+json": {
              "type": "string"
            }
          },
          "metadata": {},
          "execution_count": 101
        }
      ],
      "source": [
        "content.first()"
      ]
    },
    {
      "cell_type": "code",
      "execution_count": 102,
      "metadata": {
        "application/vnd.databricks.v1+cell": {
          "cellMetadata": {
            "byteLimit": 2048000,
            "rowLimit": 10000
          },
          "inputWidgets": {},
          "nuid": "7c6477b3-ae17-40c9-ad94-e226c1d96a67",
          "showTitle": false,
          "tableResultSettingsMap": {},
          "title": ""
        },
        "colab": {
          "base_uri": "https://localhost:8080/"
        },
        "id": "c6_BUvJJdQ3r",
        "outputId": "6dbe984a-3439-4ca3-c89e-d69e94bf8040"
      },
      "outputs": [
        {
          "output_type": "execute_result",
          "data": {
            "text/plain": [
              "17"
            ]
          },
          "metadata": {},
          "execution_count": 102
        }
      ],
      "source": [
        "content.map(lambda line: len(line.split(\"\\t\"))).distinct().collect()[0]"
      ]
    },
    {
      "cell_type": "markdown",
      "metadata": {
        "application/vnd.databricks.v1+cell": {
          "cellMetadata": {},
          "inputWidgets": {},
          "nuid": "a3097865-16c7-4069-bf6b-b61d2a71ced9",
          "showTitle": false,
          "tableResultSettingsMap": {},
          "title": ""
        },
        "id": "xkNYZ223dQ3r"
      },
      "source": [
        "# Example of RDD using Scala"
      ]
    },
    {
      "cell_type": "code",
      "execution_count": 103,
      "metadata": {
        "application/vnd.databricks.v1+cell": {
          "cellMetadata": {
            "byteLimit": 2048000,
            "rowLimit": 10000
          },
          "inputWidgets": {},
          "nuid": "fd3e1c26-ea05-4ffb-b91d-6ef5936864db",
          "showTitle": false,
          "tableResultSettingsMap": {},
          "title": ""
        },
        "colab": {
          "base_uri": "https://localhost:8080/"
        },
        "id": "A6GYr95xdQ3r",
        "outputId": "cd28633f-2124-4f5e-b26c-0e3e0cb6bcd2"
      },
      "outputs": [
        {
          "output_type": "execute_result",
          "data": {
            "text/plain": [
              "[['680',\n",
              "  'HL Road Frame - Black, 58',\n",
              "  'FR-R92B-58',\n",
              "  'Black',\n",
              "  '1059.31',\n",
              "  '1431.50',\n",
              "  '58',\n",
              "  '1016.04',\n",
              "  '18',\n",
              "  '6',\n",
              "  '1998-06-01 00:00:00.000',\n",
              "  'NULL',\n",
              "  'NULL',\n",
              "  '0x47494638396150003100F70000000000800000008000808000000080800080008080808080C0C0C0FF000000FF00FFFF000000FFFF00FF00FFFFFFFFFF000000000000000000000000000000000000000000000000000000000000000000000000000000000000000000000000000000000000000000000000000000000000',\n",
              "  'no_image_available_small.gif',\n",
              "  '43DD68D6-14A4-461F-9069-55309D90EA7E',\n",
              "  '2004-03-11 10:01:36.827']]"
            ]
          },
          "metadata": {},
          "execution_count": 103
        }
      ],
      "source": [
        "rdd1 = (content.filter(lambda line: line.split(\"\\t\"))\n",
        " .map(lambda line: (line.split(\"\\t\")))\n",
        ")\n",
        "rdd1.take(1)"
      ]
    },
    {
      "cell_type": "markdown",
      "metadata": {
        "application/vnd.databricks.v1+cell": {
          "cellMetadata": {},
          "inputWidgets": {},
          "nuid": "a105419c-a4d8-4fee-a173-8a25b774998c",
          "showTitle": false,
          "tableResultSettingsMap": {},
          "title": ""
        },
        "id": "xxbVtgz9dQ3s"
      },
      "source": [
        "# Converting RDD into Spark Dataframe"
      ]
    },
    {
      "cell_type": "code",
      "execution_count": 104,
      "metadata": {
        "application/vnd.databricks.v1+cell": {
          "cellMetadata": {
            "byteLimit": 2048000,
            "rowLimit": 10000
          },
          "inputWidgets": {},
          "nuid": "9a3f50ec-faaf-4aae-975c-5eeb4b1f66d6",
          "showTitle": false,
          "tableResultSettingsMap": {},
          "title": ""
        },
        "colab": {
          "base_uri": "https://localhost:8080/"
        },
        "id": "LqCdB8O7dQ3s",
        "outputId": "f21830da-c7ab-45da-dab1-69db8bd98d03"
      },
      "outputs": [
        {
          "output_type": "stream",
          "name": "stdout",
          "text": [
            "+---------+--------------------+-------------+-----+------------+---------+----+-------+-----------------+--------------+--------------------+--------------------+----------------+--------------------+----------------------+--------------------+--------------------+\n",
            "|ProductID|                Name|ProductNumber|Color|StandardCost|ListPrice|Size| Weight|ProductCategoryID|ProductModelID|       SellStartDate|         SellEndDate|DiscontinuedDate|      ThumbNailPhoto|ThumbnailPhotoFileName|             rowguid|        ModifiedDate|\n",
            "+---------+--------------------+-------------+-----+------------+---------+----+-------+-----------------+--------------+--------------------+--------------------+----------------+--------------------+----------------------+--------------------+--------------------+\n",
            "|      680|HL Road Frame - B...|   FR-R92B-58|Black|     1059.31|  1431.50|  58|1016.04|               18|             6|1998-06-01 00:00:...|                NULL|            NULL|0x474946383961500...|  no_image_availabl...|43DD68D6-14A4-461...|2004-03-11 10:01:...|\n",
            "|      706|HL Road Frame - R...|   FR-R92R-58|  Red|     1059.31|  1431.50|  58|1016.04|               18|             6|1998-06-01 00:00:...|                NULL|            NULL|0x474946383961500...|  no_image_availabl...|9540FF17-2712-4C9...|2004-03-11 10:01:...|\n",
            "|      707|Sport-100 Helmet,...|    HL-U509-R|  Red|     13.0863|    34.99|NULL|   NULL|               35|            33|2001-07-01 00:00:...|                NULL|            NULL|0x474946383961500...|  no_image_availabl...|2E1EF41A-C08A-4FF...|2004-03-11 10:01:...|\n",
            "|      708|Sport-100 Helmet,...|      HL-U509|Black|     13.0863|    34.99|NULL|   NULL|               35|            33|2001-07-01 00:00:...|                NULL|            NULL|0x474946383961500...|  no_image_availabl...|A25A44FB-C2DE-426...|2004-03-11 10:01:...|\n",
            "|      709|Mountain Bike Soc...|    SO-B909-M|White|      3.3963|     9.50|   M|   NULL|               27|            18|2001-07-01 00:00:...|2002-06-30 00:00:...|            NULL|0x474946383961500...|  no_image_availabl...|18F95F47-1540-4E0...|2004-03-11 10:01:...|\n",
            "|      710|Mountain Bike Soc...|    SO-B909-L|White|      3.3963|     9.50|   L|   NULL|               27|            18|2001-07-01 00:00:...|2002-06-30 00:00:...|            NULL|0x474946383961500...|  no_image_availabl...|161C035E-21B3-4E1...|2004-03-11 10:01:...|\n",
            "|      711|Sport-100 Helmet,...|    HL-U509-B| Blue|     13.0863|    34.99|NULL|   NULL|               35|            33|2001-07-01 00:00:...|                NULL|            NULL|0x474946383961500...|  no_image_availabl...|FD7C0858-4179-48C...|2004-03-11 10:01:...|\n",
            "|      712|        AWC Logo Cap|      CA-1098|Multi|      6.9223|     8.99|NULL|   NULL|               23|             2|2001-07-01 00:00:...|                NULL|            NULL|0x474946383961500...|  no_image_availabl...|B9EDE243-A6F4-462...|2004-03-11 10:01:...|\n",
            "|      713|Long-Sleeve Logo ...|    LJ-0192-S|Multi|     38.4923|    49.99|   S|   NULL|               25|            11|2001-07-01 00:00:...|                NULL|            NULL|0x474946383961500...|  awc_jersey_male_s...|FD449C82-A259-4FA...|2004-03-11 10:01:...|\n",
            "|      714|Long-Sleeve Logo ...|    LJ-0192-M|Multi|     38.4923|    49.99|   M|   NULL|               25|            11|2001-07-01 00:00:...|                NULL|            NULL|0x474946383961500...|  awc_jersey_male_s...|6A290063-A0CF-432...|2004-03-11 10:01:...|\n",
            "|      715|Long-Sleeve Logo ...|    LJ-0192-L|Multi|     38.4923|    49.99|   L|   NULL|               25|            11|2001-07-01 00:00:...|                NULL|            NULL|0x474946383961500...|  awc_jersey_male_s...|34CF5EF5-C077-4EA...|2004-03-11 10:01:...|\n",
            "|      716|Long-Sleeve Logo ...|    LJ-0192-X|Multi|     38.4923|    49.99|  XL|   NULL|               25|            11|2001-07-01 00:00:...|                NULL|            NULL|0x474946383961500...|  awc_jersey_male_s...|6EC47EC9-C041-4DD...|2004-03-11 10:01:...|\n",
            "|      717|HL Road Frame - R...|   FR-R92R-62|  Red|    868.6342|  1431.50|  62|1043.26|               18|             6|2001-07-01 00:00:...|                NULL|            NULL|0x474946383961500...|  no_image_availabl...|052E4F8B-0A2A-46B...|2004-03-11 10:01:...|\n",
            "|      718|HL Road Frame - R...|   FR-R92R-44|  Red|    868.6342|  1431.50|  44| 961.61|               18|             6|2001-07-01 00:00:...|                NULL|            NULL|0x474946383961500...|  no_image_availabl...|A88D3B54-2CAE-43F...|2004-03-11 10:01:...|\n",
            "|      719|HL Road Frame - R...|   FR-R92R-48|  Red|    868.6342|  1431.50|  48| 979.75|               18|             6|2001-07-01 00:00:...|                NULL|            NULL|0x474946383961500...|  no_image_availabl...|07BEFC9A-7634-402...|2004-03-11 10:01:...|\n",
            "|      720|HL Road Frame - R...|   FR-R92R-52|  Red|    868.6342|  1431.50|  52| 997.90|               18|             6|2001-07-01 00:00:...|                NULL|            NULL|0x474946383961500...|  no_image_availabl...|FCFEA68F-310E-4E6...|2004-03-11 10:01:...|\n",
            "|      721|HL Road Frame - R...|   FR-R92R-56|  Red|    868.6342|  1431.50|  56|1016.04|               18|             6|2001-07-01 00:00:...|                NULL|            NULL|0x474946383961500...|  no_image_availabl...|56C85873-4993-41B...|2004-03-11 10:01:...|\n",
            "|      722|LL Road Frame - B...|   FR-R38B-58|Black|    204.6251|   337.22|  58|1115.83|               18|             9|2001-07-01 00:00:...|                NULL|            NULL|0x474946383961500...|  no_image_availabl...|2140F256-F705-4D6...|2004-03-11 10:01:...|\n",
            "|      723|LL Road Frame - B...|   FR-R38B-60|Black|    204.6251|   337.22|  60|1124.90|               18|             9|2001-07-01 00:00:...|                NULL|            NULL|0x474946383961500...|  no_image_availabl...|AA95E2A5-E7C4-4B7...|2004-03-11 10:01:...|\n",
            "|      724|LL Road Frame - B...|   FR-R38B-62|Black|    204.6251|   337.22|  62|1133.98|               18|             9|2001-07-01 00:00:...|                NULL|            NULL|0x474946383961500...|  no_image_availabl...|5247BE33-50BF-452...|2004-03-11 10:01:...|\n",
            "+---------+--------------------+-------------+-----+------------+---------+----+-------+-----------------+--------------+--------------------+--------------------+----------------+--------------------+----------------------+--------------------+--------------------+\n",
            "only showing top 20 rows\n",
            "\n"
          ]
        }
      ],
      "source": [
        "df = rdd1.toDF(header)\n",
        "df.show()"
      ]
    },
    {
      "cell_type": "markdown",
      "metadata": {
        "application/vnd.databricks.v1+cell": {
          "cellMetadata": {},
          "inputWidgets": {},
          "nuid": "fb282bbf-f4b2-4299-9c07-9b978bce0169",
          "showTitle": false,
          "tableResultSettingsMap": {},
          "title": ""
        },
        "id": "HZmFnM7IdQ3s"
      },
      "source": [
        "# Using Two Different Code/Syntax\n",
        "## Spark Dataframe syntax and SQL Table syntax"
      ]
    },
    {
      "cell_type": "markdown",
      "metadata": {
        "application/vnd.databricks.v1+cell": {
          "cellMetadata": {},
          "inputWidgets": {},
          "nuid": "634a7e65-f23f-4043-963f-feeaa28bfa85",
          "showTitle": false,
          "tableResultSettingsMap": {},
          "title": ""
        },
        "id": "bK2AUhvydQ3s"
      },
      "source": [
        "### Spark Dataframe syntax"
      ]
    },
    {
      "cell_type": "code",
      "execution_count": 105,
      "metadata": {
        "application/vnd.databricks.v1+cell": {
          "cellMetadata": {
            "byteLimit": 2048000,
            "rowLimit": 10000
          },
          "inputWidgets": {},
          "nuid": "fae7aa88-69b3-42fe-b863-c890bb7975eb",
          "showTitle": false,
          "tableResultSettingsMap": {},
          "title": ""
        },
        "colab": {
          "base_uri": "https://localhost:8080/"
        },
        "id": "r6FW_EJJdQ3s",
        "outputId": "7d5232c4-e65e-415e-93a0-fda82cd25535"
      },
      "outputs": [
        {
          "output_type": "stream",
          "name": "stdout",
          "text": [
            "+-------------------------+-------+\n",
            "|Name                     |Weight |\n",
            "+-------------------------+-------+\n",
            "|HL Road Frame - Black, 58|1016.04|\n",
            "|HL Road Frame - Red, 58  |1016.04|\n",
            "|Sport-100 Helmet, Red    |NULL   |\n",
            "|Sport-100 Helmet, Black  |NULL   |\n",
            "|Mountain Bike Socks, M   |NULL   |\n",
            "+-------------------------+-------+\n",
            "only showing top 5 rows\n",
            "\n"
          ]
        }
      ],
      "source": [
        "# selecting two columns Name and Weight from original dataframe and convert into their proper datatype. Default is string\n",
        "spark_df = df.select(df.Name, df.Weight.cast(\"float\"))\n",
        "spark_df.show(5, truncate=False)"
      ]
    },
    {
      "cell_type": "markdown",
      "metadata": {
        "application/vnd.databricks.v1+cell": {
          "cellMetadata": {},
          "inputWidgets": {},
          "nuid": "76e9f5d3-2ce4-42a6-8a97-151f62966559",
          "showTitle": false,
          "tableResultSettingsMap": {},
          "title": ""
        },
        "id": "RKOM75vTdQ3s"
      },
      "source": [
        "### SQL Table syntax\n",
        "First convert the original Spark Dataframe df into SQL Table and then write SQL syntax"
      ]
    },
    {
      "cell_type": "code",
      "execution_count": 106,
      "metadata": {
        "application/vnd.databricks.v1+cell": {
          "cellMetadata": {
            "byteLimit": 2048000,
            "rowLimit": 10000
          },
          "inputWidgets": {},
          "nuid": "ba37d163-0abd-47ac-a2dd-609382697ca7",
          "showTitle": false,
          "tableResultSettingsMap": {},
          "title": ""
        },
        "colab": {
          "base_uri": "https://localhost:8080/"
        },
        "id": "IoxJuOz5dQ3t",
        "outputId": "301133e5-c971-4e45-921a-24a00e4cccc7"
      },
      "outputs": [
        {
          "output_type": "stream",
          "name": "stdout",
          "text": [
            "+-------------------------+-------+\n",
            "|Name                     |Weight |\n",
            "+-------------------------+-------+\n",
            "|HL Road Frame - Black, 58|1016.04|\n",
            "|HL Road Frame - Red, 58  |1016.04|\n",
            "|Sport-100 Helmet, Red    |NULL   |\n",
            "|Sport-100 Helmet, Black  |NULL   |\n",
            "|Mountain Bike Socks, M   |NULL   |\n",
            "+-------------------------+-------+\n",
            "\n"
          ]
        }
      ],
      "source": [
        "# convert the original Spark Dataframe df into SQL Table\n",
        "df.createOrReplaceTempView(\"df_table\")\n",
        "# write SQL query syntax\n",
        "sqlContext.sql(\" SELECT Name, cast(Weight as float) FROM df_table limit 5\").show(truncate=False)"
      ]
    },
    {
      "cell_type": "markdown",
      "metadata": {
        "application/vnd.databricks.v1+cell": {
          "cellMetadata": {},
          "inputWidgets": {},
          "nuid": "69d4323b-c498-4abe-b321-1a62cd627ed8",
          "showTitle": false,
          "tableResultSettingsMap": {},
          "title": ""
        },
        "id": "D2ysHY1SdQ3t"
      },
      "source": [
        "## Write your solutions using Spark Dataframe syntax and Spark SQL syntax. Your output should match with the RDD output"
      ]
    },
    {
      "cell_type": "markdown",
      "metadata": {
        "application/vnd.databricks.v1+cell": {
          "cellMetadata": {},
          "inputWidgets": {},
          "nuid": "6019e613-c169-4946-923d-2d87ba1ce274",
          "showTitle": false,
          "tableResultSettingsMap": {},
          "title": ""
        },
        "id": "hTN9PE44dQ3t"
      },
      "source": [
        "#### 1. Find the names and weight of the top 15 products by weight. Sort weight by descending order."
      ]
    },
    {
      "cell_type": "markdown",
      "metadata": {
        "application/vnd.databricks.v1+cell": {
          "cellMetadata": {},
          "inputWidgets": {},
          "nuid": "cf59b76e-c51a-4445-9d49-eb6dc0c6ad00",
          "showTitle": false,
          "tableResultSettingsMap": {},
          "title": ""
        },
        "id": "XgD8Ea9hdQ3t"
      },
      "source": [
        "##### Using RDD"
      ]
    },
    {
      "cell_type": "code",
      "execution_count": 107,
      "metadata": {
        "application/vnd.databricks.v1+cell": {
          "cellMetadata": {
            "byteLimit": 2048000,
            "rowLimit": 10000
          },
          "inputWidgets": {},
          "nuid": "728d67e4-bc29-4991-a999-154e1450fbf6",
          "showTitle": false,
          "tableResultSettingsMap": {},
          "title": ""
        },
        "colab": {
          "base_uri": "https://localhost:8080/"
        },
        "id": "iuKpO1KqdQ3t",
        "outputId": "136a26d4-d236-40aa-ffe1-9102abdd0cf7"
      },
      "outputs": [
        {
          "output_type": "execute_result",
          "data": {
            "text/plain": [
              "[('Touring-3000 Blue, 62', 13607.7),\n",
              " ('Touring-3000 Yellow, 62', 13607.7),\n",
              " ('Touring-3000 Blue, 58', 13562.34),\n",
              " ('Touring-3000 Yellow, 58', 13512.45),\n",
              " ('Touring-3000 Blue, 54', 13462.55),\n",
              " ('Touring-3000 Yellow, 54', 13344.62),\n",
              " ('Touring-3000 Yellow, 50', 13213.08),\n",
              " ('Touring-3000 Blue, 50', 13213.08),\n",
              " ('Touring-3000 Yellow, 44', 13049.78),\n",
              " ('Touring-3000 Blue, 44', 13049.78),\n",
              " ('Mountain-500 Silver, 52', 13008.96),\n",
              " ('Mountain-500 Black, 52', 13008.96),\n",
              " ('Mountain-500 Silver, 48', 12891.03),\n",
              " ('Mountain-500 Black, 48', 12891.03),\n",
              " ('Mountain-500 Silver, 44', 12759.49)]"
            ]
          },
          "metadata": {},
          "execution_count": 107
        }
      ],
      "source": [
        "(content.filter(lambda line: line.split(\"\\t\")[7] != \"NULL\")\n",
        " .map(lambda line: (line.split(\"\\t\")[1], float(line.split(\"\\t\")[7])))\n",
        "                     .takeOrdered(15, lambda x : -x[1])\n",
        "                    )"
      ]
    },
    {
      "cell_type": "markdown",
      "metadata": {
        "application/vnd.databricks.v1+cell": {
          "cellMetadata": {},
          "inputWidgets": {},
          "nuid": "9908f57f-848d-49c8-a3c9-5040d1e35a32",
          "showTitle": false,
          "tableResultSettingsMap": {},
          "title": ""
        },
        "id": "y64cb3oUdQ3t"
      },
      "source": [
        "##### Using Spark DataFrame"
      ]
    },
    {
      "cell_type": "code",
      "execution_count": 108,
      "metadata": {
        "application/vnd.databricks.v1+cell": {
          "cellMetadata": {},
          "inputWidgets": {},
          "nuid": "16c097bd-6deb-4dd6-967c-98b4a32c89dd",
          "showTitle": false,
          "tableResultSettingsMap": {},
          "title": ""
        },
        "colab": {
          "base_uri": "https://localhost:8080/"
        },
        "id": "kf6J7wL5dQ3t",
        "outputId": "2fc53272-d67c-45be-e99e-27761bb67568"
      },
      "outputs": [
        {
          "output_type": "stream",
          "name": "stdout",
          "text": [
            "+-----------------------+--------+\n",
            "|Name                   |Weight  |\n",
            "+-----------------------+--------+\n",
            "|Touring-3000 Yellow, 62|13607.7 |\n",
            "|Touring-3000 Blue, 62  |13607.7 |\n",
            "|Touring-3000 Blue, 58  |13562.34|\n",
            "|Touring-3000 Yellow, 58|13512.45|\n",
            "|Touring-3000 Blue, 54  |13462.55|\n",
            "|Touring-3000 Yellow, 54|13344.62|\n",
            "|Touring-3000 Yellow, 50|13213.08|\n",
            "|Touring-3000 Blue, 50  |13213.08|\n",
            "|Touring-3000 Yellow, 44|13049.78|\n",
            "|Touring-3000 Blue, 44  |13049.78|\n",
            "|Mountain-500 Silver, 52|13008.96|\n",
            "|Mountain-500 Black, 52 |13008.96|\n",
            "|Mountain-500 Silver, 48|12891.03|\n",
            "|Mountain-500 Black, 48 |12891.03|\n",
            "|Mountain-500 Silver, 44|12759.49|\n",
            "+-----------------------+--------+\n",
            "\n"
          ]
        }
      ],
      "source": [
        "spark_df = df.select(df.Name, df.Weight.cast(\"float\"))\n",
        "\n",
        "# filtering non-null weights, order by descending weight, and fetch the top 15\n",
        "top_records = (\n",
        "    spark_df.filter(spark_df.Weight.isNotNull())\n",
        "                .orderBy(spark_df.Weight.desc())\n",
        "                .limit(15)\n",
        ")\n",
        "\n",
        "top_records.show(truncate=False)"
      ]
    },
    {
      "cell_type": "markdown",
      "metadata": {
        "application/vnd.databricks.v1+cell": {
          "cellMetadata": {},
          "inputWidgets": {},
          "nuid": "d1aee5df-1ab5-4a8d-a36c-1ae78c3d1195",
          "showTitle": false,
          "tableResultSettingsMap": {},
          "title": ""
        },
        "id": "jEM3G-FzdQ3t"
      },
      "source": [
        "##### Using Spark SQL"
      ]
    },
    {
      "cell_type": "code",
      "execution_count": 109,
      "metadata": {
        "application/vnd.databricks.v1+cell": {
          "cellMetadata": {},
          "inputWidgets": {},
          "nuid": "dc945e57-6428-4d09-b227-b875758c36f9",
          "showTitle": false,
          "tableResultSettingsMap": {},
          "title": ""
        },
        "colab": {
          "base_uri": "https://localhost:8080/"
        },
        "id": "UzySO5JRdQ3t",
        "outputId": "29fb61b9-a889-4282-ef59-cb87ba52256b"
      },
      "outputs": [
        {
          "output_type": "stream",
          "name": "stdout",
          "text": [
            "+-----------------------+-----------+\n",
            "|Name                   |FloatWeight|\n",
            "+-----------------------+-----------+\n",
            "|Touring-3000 Yellow, 62|13607.7    |\n",
            "|Touring-3000 Blue, 62  |13607.7    |\n",
            "|Touring-3000 Blue, 58  |13562.34   |\n",
            "|Touring-3000 Yellow, 58|13512.45   |\n",
            "|Touring-3000 Blue, 54  |13462.55   |\n",
            "|Touring-3000 Yellow, 54|13344.62   |\n",
            "|Touring-3000 Yellow, 50|13213.08   |\n",
            "|Touring-3000 Blue, 50  |13213.08   |\n",
            "|Touring-3000 Yellow, 44|13049.78   |\n",
            "|Touring-3000 Blue, 44  |13049.78   |\n",
            "|Mountain-500 Silver, 52|13008.96   |\n",
            "|Mountain-500 Black, 52 |13008.96   |\n",
            "|Mountain-500 Silver, 48|12891.03   |\n",
            "|Mountain-500 Black, 48 |12891.03   |\n",
            "|Mountain-500 Silver, 44|12759.49   |\n",
            "+-----------------------+-----------+\n",
            "\n"
          ]
        }
      ],
      "source": [
        "df.createOrReplaceTempView(\"temp_view\")\n",
        "\n",
        "sqlContext.sql(\"\"\"\n",
        "    SELECT Name,\n",
        "        CAST(Weight AS FLOAT) AS FloatWeight\n",
        "    FROM temp_view\n",
        "    WHERE Weight IS NOT NULL\n",
        "    ORDER BY FloatWeight DESC\n",
        "    LIMIT 15\"\"\").show(truncate=False)"
      ]
    },
    {
      "cell_type": "markdown",
      "metadata": {
        "application/vnd.databricks.v1+cell": {
          "cellMetadata": {},
          "inputWidgets": {},
          "nuid": "6a364981-2a82-4a66-940d-b62a3c2eabad",
          "showTitle": false,
          "tableResultSettingsMap": {},
          "title": ""
        },
        "id": "jX1rXaRrdQ3u"
      },
      "source": [
        "#### 2. Retrieve product details (name, color, size, product model ID) for products where the product model ID is 5"
      ]
    },
    {
      "cell_type": "markdown",
      "metadata": {
        "application/vnd.databricks.v1+cell": {
          "cellMetadata": {},
          "inputWidgets": {},
          "nuid": "30dffc8a-4473-4429-83ba-4ce42cb63432",
          "showTitle": false,
          "tableResultSettingsMap": {},
          "title": ""
        },
        "id": "jXFP7aCOdQ3u"
      },
      "source": [
        "##### Using RDD"
      ]
    },
    {
      "cell_type": "code",
      "execution_count": 110,
      "metadata": {
        "application/vnd.databricks.v1+cell": {
          "cellMetadata": {
            "byteLimit": 2048000,
            "rowLimit": 10000
          },
          "inputWidgets": {},
          "nuid": "b7f96168-273f-4786-8231-ee60b60aae89",
          "showTitle": false,
          "tableResultSettingsMap": {},
          "title": ""
        },
        "colab": {
          "base_uri": "https://localhost:8080/"
        },
        "id": "9adQ5w5kdQ3u",
        "outputId": "1bac9e5f-e92e-4039-b112-6251b63121db"
      },
      "outputs": [
        {
          "output_type": "execute_result",
          "data": {
            "text/plain": [
              "[('HL Mountain Frame - Silver, 42', 'Silver', '42', '5'),\n",
              " ('HL Mountain Frame - Silver, 44', 'Silver', '44', '5'),\n",
              " ('HL Mountain Frame - Silver, 48', 'Silver', '48', '5'),\n",
              " ('HL Mountain Frame - Silver, 46', 'Silver', '46', '5'),\n",
              " ('HL Mountain Frame - Black, 42', 'Black', '42', '5'),\n",
              " ('HL Mountain Frame - Black, 44', 'Black', '44', '5'),\n",
              " ('HL Mountain Frame - Black, 48', 'Black', '48', '5'),\n",
              " ('HL Mountain Frame - Black, 46', 'Black', '46', '5'),\n",
              " ('HL Mountain Frame - Black, 38', 'Black', '38', '5'),\n",
              " ('HL Mountain Frame - Silver, 38', 'Silver', '38', '5')]"
            ]
          },
          "metadata": {},
          "execution_count": 110
        }
      ],
      "source": [
        "(content.filter(lambda line:line.split(\"\\t\")[9]==\"5\")\n",
        " .map(lambda line: (line.split(\"\\t\")[1],line.split(\"\\t\")[3], line.split(\"\\t\")[6], line.split(\"\\t\")[9])).collect()\n",
        ")"
      ]
    },
    {
      "cell_type": "markdown",
      "metadata": {
        "application/vnd.databricks.v1+cell": {
          "cellMetadata": {},
          "inputWidgets": {},
          "nuid": "4d8dabcd-bf51-4d10-96e6-71df3695d272",
          "showTitle": false,
          "tableResultSettingsMap": {},
          "title": ""
        },
        "id": "R0F_wofedQ3u"
      },
      "source": [
        "##### Using Spark Dataframe"
      ]
    },
    {
      "cell_type": "code",
      "execution_count": 111,
      "metadata": {
        "application/vnd.databricks.v1+cell": {
          "cellMetadata": {},
          "inputWidgets": {},
          "nuid": "cdf6ee7e-f5b8-410f-b26f-eaeaff7d1c30",
          "showTitle": false,
          "tableResultSettingsMap": {},
          "title": ""
        },
        "colab": {
          "base_uri": "https://localhost:8080/"
        },
        "id": "0CdyRYl1dQ3u",
        "outputId": "49e8e41b-71bc-4f23-e8a4-e852018abcaa"
      },
      "outputs": [
        {
          "output_type": "stream",
          "name": "stdout",
          "text": [
            "+------------------------------+------+----+--------------+\n",
            "|Name                          |Color |Size|ProductModelID|\n",
            "+------------------------------+------+----+--------------+\n",
            "|HL Mountain Frame - Silver, 42|Silver|42  |5             |\n",
            "|HL Mountain Frame - Silver, 44|Silver|44  |5             |\n",
            "|HL Mountain Frame - Silver, 48|Silver|48  |5             |\n",
            "|HL Mountain Frame - Silver, 46|Silver|46  |5             |\n",
            "|HL Mountain Frame - Black, 42 |Black |42  |5             |\n",
            "|HL Mountain Frame - Black, 44 |Black |44  |5             |\n",
            "|HL Mountain Frame - Black, 48 |Black |48  |5             |\n",
            "|HL Mountain Frame - Black, 46 |Black |46  |5             |\n",
            "|HL Mountain Frame - Black, 38 |Black |38  |5             |\n",
            "|HL Mountain Frame - Silver, 38|Silver|38  |5             |\n",
            "+------------------------------+------+----+--------------+\n",
            "\n"
          ]
        }
      ],
      "source": [
        "product_details = df.filter(df.ProductModelID == 5).select(df.Name, df.Color, df.Size, df.ProductModelID)\n",
        "\n",
        "product_details.show(truncate=False)"
      ]
    },
    {
      "cell_type": "markdown",
      "metadata": {
        "application/vnd.databricks.v1+cell": {
          "cellMetadata": {},
          "inputWidgets": {},
          "nuid": "c961a430-7293-4f8d-b3f9-c4070c1e235e",
          "showTitle": false,
          "tableResultSettingsMap": {},
          "title": ""
        },
        "id": "T3O0TGthdQ3u"
      },
      "source": [
        "##### Using Spark SQL"
      ]
    },
    {
      "cell_type": "code",
      "execution_count": 112,
      "metadata": {
        "application/vnd.databricks.v1+cell": {
          "cellMetadata": {},
          "inputWidgets": {},
          "nuid": "4332a9af-30c6-4395-b25e-c6147aad93dd",
          "showTitle": false,
          "tableResultSettingsMap": {},
          "title": ""
        },
        "colab": {
          "base_uri": "https://localhost:8080/"
        },
        "id": "iJ-BxAtidQ3u",
        "outputId": "4720e1cb-5f52-45fb-dd7d-ee9031ee69ab"
      },
      "outputs": [
        {
          "output_type": "stream",
          "name": "stdout",
          "text": [
            "+------------------------------+------+----+--------------+\n",
            "|Name                          |Color |Size|ProductModelID|\n",
            "+------------------------------+------+----+--------------+\n",
            "|HL Mountain Frame - Silver, 42|Silver|42  |5             |\n",
            "|HL Mountain Frame - Silver, 44|Silver|44  |5             |\n",
            "|HL Mountain Frame - Silver, 48|Silver|48  |5             |\n",
            "|HL Mountain Frame - Silver, 46|Silver|46  |5             |\n",
            "|HL Mountain Frame - Black, 42 |Black |42  |5             |\n",
            "|HL Mountain Frame - Black, 44 |Black |44  |5             |\n",
            "|HL Mountain Frame - Black, 48 |Black |48  |5             |\n",
            "|HL Mountain Frame - Black, 46 |Black |46  |5             |\n",
            "|HL Mountain Frame - Black, 38 |Black |38  |5             |\n",
            "|HL Mountain Frame - Silver, 38|Silver|38  |5             |\n",
            "+------------------------------+------+----+--------------+\n",
            "\n"
          ]
        }
      ],
      "source": [
        "df.createOrReplaceTempView(\"product_view\")\n",
        "\n",
        "sqlContext.sql(\"\"\"SELECT Name, Color, Size, ProductModelID\n",
        "                FROM product_view\n",
        "                WHERE ProductModelID = 5\"\"\").show(truncate=False)"
      ]
    },
    {
      "cell_type": "markdown",
      "metadata": {
        "application/vnd.databricks.v1+cell": {
          "cellMetadata": {},
          "inputWidgets": {},
          "nuid": "e3c9fc97-d853-479d-bbe2-134342535de9",
          "showTitle": false,
          "tableResultSettingsMap": {},
          "title": ""
        },
        "id": "vwu3O9BBdQ3u"
      },
      "source": [
        "#### 3. Retrieve the name and product number of the products that have a color of 'black', 'red', or 'white' and a size of 'S' or 'M'"
      ]
    },
    {
      "cell_type": "markdown",
      "metadata": {
        "application/vnd.databricks.v1+cell": {
          "cellMetadata": {},
          "inputWidgets": {},
          "nuid": "31174ab6-690a-42de-becb-5452c1e902bf",
          "showTitle": false,
          "tableResultSettingsMap": {},
          "title": ""
        },
        "id": "eoDJZeHedQ3u"
      },
      "source": [
        "##### Using RDD"
      ]
    },
    {
      "cell_type": "code",
      "execution_count": 113,
      "metadata": {
        "application/vnd.databricks.v1+cell": {
          "cellMetadata": {
            "byteLimit": 2048000,
            "rowLimit": 10000
          },
          "inputWidgets": {},
          "nuid": "1b99ae62-4b55-4e7f-b27e-80f79909aeca",
          "showTitle": false,
          "tableResultSettingsMap": {},
          "title": ""
        },
        "colab": {
          "base_uri": "https://localhost:8080/"
        },
        "id": "GmLEZqBJdQ3v",
        "outputId": "3b89cef7-1c98-4f5b-d1c3-c44222781713"
      },
      "outputs": [
        {
          "output_type": "execute_result",
          "data": {
            "text/plain": [
              "[('Mountain Bike Socks, M', 'SO-B909-M', 'White', 'M'),\n",
              " (\"Men's Sports Shorts, S\", 'SH-M897-S', 'Black', 'S'),\n",
              " (\"Men's Sports Shorts, M\", 'SH-M897-M', 'Black', 'M'),\n",
              " (\"Women's Tights, S\", 'TG-W091-S', 'Black', 'S'),\n",
              " (\"Women's Tights, M\", 'TG-W091-M', 'Black', 'M'),\n",
              " ('Half-Finger Gloves, S', 'GL-H102-S', 'Black', 'S'),\n",
              " ('Half-Finger Gloves, M', 'GL-H102-M', 'Black', 'M'),\n",
              " ('Full-Finger Gloves, S', 'GL-F110-S', 'Black', 'S'),\n",
              " ('Full-Finger Gloves, M', 'GL-F110-M', 'Black', 'M'),\n",
              " (\"Women's Mountain Shorts, S\", 'SH-W890-S', 'Black', 'S'),\n",
              " (\"Women's Mountain Shorts, M\", 'SH-W890-M', 'Black', 'M'),\n",
              " ('Racing Socks, M', 'SO-R809-M', 'White', 'M')]"
            ]
          },
          "metadata": {},
          "execution_count": 113
        }
      ],
      "source": [
        "colors = [\"White\",\"Black\",\"Red\"]\n",
        "sizes = [\"S\",\"M\"]\n",
        "\n",
        "(content.filter(lambda line: line.split(\"\\t\")[6] in sizes)\n",
        ".filter(lambda line: line.split(\"\\t\")[3] in colors)\n",
        ".map(lambda line: (line.split(\"\\t\")[1],line.split(\"\\t\")[2], line.split(\"\\t\")[3],line.split(\"\\t\")[6]))\n",
        " .collect()\n",
        ")"
      ]
    },
    {
      "cell_type": "markdown",
      "metadata": {
        "application/vnd.databricks.v1+cell": {
          "cellMetadata": {},
          "inputWidgets": {},
          "nuid": "895cbde1-b7ef-49fd-9c0f-696369f27128",
          "showTitle": false,
          "tableResultSettingsMap": {},
          "title": ""
        },
        "id": "ArC5HGjydQ3v"
      },
      "source": [
        "##### Using Spark Dataframe"
      ]
    },
    {
      "cell_type": "code",
      "execution_count": 114,
      "metadata": {
        "application/vnd.databricks.v1+cell": {
          "cellMetadata": {},
          "inputWidgets": {},
          "nuid": "17a831f7-0cb4-43f2-8bbb-77b1e035ade8",
          "showTitle": false,
          "tableResultSettingsMap": {},
          "title": ""
        },
        "colab": {
          "base_uri": "https://localhost:8080/"
        },
        "id": "LIOVhMJGdQ3v",
        "outputId": "39e5c4f4-de80-41a0-db7f-bd61cc5cf323"
      },
      "outputs": [
        {
          "output_type": "stream",
          "name": "stdout",
          "text": [
            "+--------------------------+-------------+-----+----+\n",
            "|Name                      |ProductNumber|Color|Size|\n",
            "+--------------------------+-------------+-----+----+\n",
            "|Mountain Bike Socks, M    |SO-B909-M    |White|M   |\n",
            "|Men's Sports Shorts, S    |SH-M897-S    |Black|S   |\n",
            "|Men's Sports Shorts, M    |SH-M897-M    |Black|M   |\n",
            "|Women's Tights, S         |TG-W091-S    |Black|S   |\n",
            "|Women's Tights, M         |TG-W091-M    |Black|M   |\n",
            "|Half-Finger Gloves, S     |GL-H102-S    |Black|S   |\n",
            "|Half-Finger Gloves, M     |GL-H102-M    |Black|M   |\n",
            "|Full-Finger Gloves, S     |GL-F110-S    |Black|S   |\n",
            "|Full-Finger Gloves, M     |GL-F110-M    |Black|M   |\n",
            "|Women's Mountain Shorts, S|SH-W890-S    |Black|S   |\n",
            "|Women's Mountain Shorts, M|SH-W890-M    |Black|M   |\n",
            "|Racing Socks, M           |SO-R809-M    |White|M   |\n",
            "+--------------------------+-------------+-----+----+\n",
            "\n"
          ]
        }
      ],
      "source": [
        "filtered_products = df.filter(\n",
        "    (df.Color.isin(\"Black\", \"Red\", \"White\")) &\n",
        "    (df.Size.isin(\"S\", \"M\"))).select(df.Name, df.ProductNumber, df.Color, df.Size)\n",
        "\n",
        "filtered_products.show(truncate=False)"
      ]
    },
    {
      "cell_type": "markdown",
      "metadata": {
        "application/vnd.databricks.v1+cell": {
          "cellMetadata": {},
          "inputWidgets": {},
          "nuid": "15ba2bdf-70ae-4dcf-b00a-fdd80f352e96",
          "showTitle": false,
          "tableResultSettingsMap": {},
          "title": ""
        },
        "id": "eQy1Q6_MdQ39"
      },
      "source": [
        "##### Using Spark SQL"
      ]
    },
    {
      "cell_type": "code",
      "execution_count": 115,
      "metadata": {
        "application/vnd.databricks.v1+cell": {
          "cellMetadata": {},
          "inputWidgets": {},
          "nuid": "da3463c2-f9b1-480a-ab44-c69af4275b91",
          "showTitle": false,
          "tableResultSettingsMap": {},
          "title": ""
        },
        "colab": {
          "base_uri": "https://localhost:8080/"
        },
        "id": "WK0RtS4edQ39",
        "outputId": "acb4c085-98be-451d-9507-4db767280625"
      },
      "outputs": [
        {
          "output_type": "stream",
          "name": "stdout",
          "text": [
            "+--------------------------+-------------+-----+----+\n",
            "|Name                      |ProductNumber|Color|Size|\n",
            "+--------------------------+-------------+-----+----+\n",
            "|Mountain Bike Socks, M    |SO-B909-M    |White|M   |\n",
            "|Men's Sports Shorts, S    |SH-M897-S    |Black|S   |\n",
            "|Men's Sports Shorts, M    |SH-M897-M    |Black|M   |\n",
            "|Women's Tights, S         |TG-W091-S    |Black|S   |\n",
            "|Women's Tights, M         |TG-W091-M    |Black|M   |\n",
            "|Half-Finger Gloves, S     |GL-H102-S    |Black|S   |\n",
            "|Half-Finger Gloves, M     |GL-H102-M    |Black|M   |\n",
            "|Full-Finger Gloves, S     |GL-F110-S    |Black|S   |\n",
            "|Full-Finger Gloves, M     |GL-F110-M    |Black|M   |\n",
            "|Women's Mountain Shorts, S|SH-W890-S    |Black|S   |\n",
            "|Women's Mountain Shorts, M|SH-W890-M    |Black|M   |\n",
            "|Racing Socks, M           |SO-R809-M    |White|M   |\n",
            "+--------------------------+-------------+-----+----+\n",
            "\n"
          ]
        }
      ],
      "source": [
        "df.createOrReplaceTempView(\"product_table\")\n",
        "\n",
        "sqlContext.sql(\"\"\"SELECT Name, ProductNumber, Color, Size\n",
        "                  FROM product_table\n",
        "                  WHERE Color IN ('Black', 'Red', 'White')\n",
        "                        AND Size IN ('S', 'M')\"\"\").show(truncate=False)"
      ]
    },
    {
      "cell_type": "markdown",
      "metadata": {
        "application/vnd.databricks.v1+cell": {
          "cellMetadata": {},
          "inputWidgets": {},
          "nuid": "3280d1e9-90e3-4a1b-9ceb-6283c93680a2",
          "showTitle": false,
          "tableResultSettingsMap": {},
          "title": ""
        },
        "id": "T4IBq5kCdQ39"
      },
      "source": [
        "#### 4. Retrieve the product name, product number, color and list price of products whose product number begins with 'BK-'. Retrieve only 15 records and Sort the price in descending order"
      ]
    },
    {
      "cell_type": "markdown",
      "metadata": {
        "application/vnd.databricks.v1+cell": {
          "cellMetadata": {},
          "inputWidgets": {},
          "nuid": "9f7884c4-f177-4bc9-ab8a-8512fdbc8c4f",
          "showTitle": false,
          "tableResultSettingsMap": {},
          "title": ""
        },
        "id": "nRJFqukgdQ39"
      },
      "source": [
        "##### Using RDD"
      ]
    },
    {
      "cell_type": "code",
      "execution_count": 116,
      "metadata": {
        "application/vnd.databricks.v1+cell": {
          "cellMetadata": {
            "byteLimit": 2048000,
            "rowLimit": 10000
          },
          "inputWidgets": {},
          "nuid": "2f57b2b8-877f-4cd1-9a22-d0f6e450a175",
          "showTitle": false,
          "tableResultSettingsMap": {},
          "title": ""
        },
        "colab": {
          "base_uri": "https://localhost:8080/"
        },
        "id": "ciIJNHdndQ39",
        "outputId": "b05b44ea-9cac-43af-fd0f-e1eb6e80f828"
      },
      "outputs": [
        {
          "output_type": "execute_result",
          "data": {
            "text/plain": [
              "[('Road-150 Red, 62', 'BK-R93R-62', 'Red', 3578.27),\n",
              " ('Road-150 Red, 44', 'BK-R93R-44', 'Red', 3578.27),\n",
              " ('Road-150 Red, 48', 'BK-R93R-48', 'Red', 3578.27),\n",
              " ('Road-150 Red, 52', 'BK-R93R-52', 'Red', 3578.27),\n",
              " ('Road-150 Red, 56', 'BK-R93R-56', 'Red', 3578.27),\n",
              " ('Mountain-100 Silver, 38', 'BK-M82S-38', 'Silver', 3399.99),\n",
              " ('Mountain-100 Silver, 42', 'BK-M82S-42', 'Silver', 3399.99),\n",
              " ('Mountain-100 Silver, 44', 'BK-M82S-44', 'Silver', 3399.99),\n",
              " ('Mountain-100 Silver, 48', 'BK-M82S-48', 'Silver', 3399.99),\n",
              " ('Mountain-100 Black, 38', 'BK-M82B-38', 'Black', 3374.99),\n",
              " ('Mountain-100 Black, 42', 'BK-M82B-42', 'Black', 3374.99),\n",
              " ('Mountain-100 Black, 44', 'BK-M82B-44', 'Black', 3374.99),\n",
              " ('Mountain-100 Black, 48', 'BK-M82B-48', 'Black', 3374.99),\n",
              " ('Road-250 Red, 44', 'BK-R89R-44', 'Red', 2443.35),\n",
              " ('Road-250 Red, 48', 'BK-R89R-48', 'Red', 2443.35)]"
            ]
          },
          "metadata": {},
          "execution_count": 116
        }
      ],
      "source": [
        "(content.filter(lambda line: \"BK\" in line.split(\"\\t\")[2])\n",
        " .map(lambda line: (line.split(\"\\t\")[1], line.split(\"\\t\")[2], line.split(\"\\t\")[3], float(line.split(\"\\t\")[5])))\n",
        ".takeOrdered(15, lambda x: -x[3]))"
      ]
    },
    {
      "cell_type": "markdown",
      "metadata": {
        "application/vnd.databricks.v1+cell": {
          "cellMetadata": {},
          "inputWidgets": {},
          "nuid": "7215148c-38cc-4abf-a1a7-2cdaf49bd379",
          "showTitle": false,
          "tableResultSettingsMap": {},
          "title": ""
        },
        "id": "WV46wFA-dQ39"
      },
      "source": [
        "##### Using Spark Dataframe"
      ]
    },
    {
      "cell_type": "code",
      "execution_count": 117,
      "metadata": {
        "application/vnd.databricks.v1+cell": {
          "cellMetadata": {},
          "inputWidgets": {},
          "nuid": "0c33ad13-fd2c-4b55-85cc-091d3a453573",
          "showTitle": false,
          "tableResultSettingsMap": {},
          "title": ""
        },
        "colab": {
          "base_uri": "https://localhost:8080/"
        },
        "id": "a_Tf57WodQ39",
        "outputId": "14692bdc-f2c0-4fb4-850c-12c0a0c0609f"
      },
      "outputs": [
        {
          "output_type": "stream",
          "name": "stdout",
          "text": [
            "+-----------------------+-------------+------+---------+\n",
            "|Name                   |ProductNumber|Color |ListPrice|\n",
            "+-----------------------+-------------+------+---------+\n",
            "|Road-150 Red, 62       |BK-R93R-62   |Red   |3578.27  |\n",
            "|Road-150 Red, 44       |BK-R93R-44   |Red   |3578.27  |\n",
            "|Road-150 Red, 48       |BK-R93R-48   |Red   |3578.27  |\n",
            "|Road-150 Red, 52       |BK-R93R-52   |Red   |3578.27  |\n",
            "|Road-150 Red, 56       |BK-R93R-56   |Red   |3578.27  |\n",
            "|Mountain-100 Silver, 44|BK-M82S-44   |Silver|3399.99  |\n",
            "|Mountain-100 Silver, 48|BK-M82S-48   |Silver|3399.99  |\n",
            "|Mountain-100 Silver, 38|BK-M82S-38   |Silver|3399.99  |\n",
            "|Mountain-100 Silver, 42|BK-M82S-42   |Silver|3399.99  |\n",
            "|Mountain-100 Black, 38 |BK-M82B-38   |Black |3374.99  |\n",
            "|Mountain-100 Black, 42 |BK-M82B-42   |Black |3374.99  |\n",
            "|Mountain-100 Black, 44 |BK-M82B-44   |Black |3374.99  |\n",
            "|Mountain-100 Black, 48 |BK-M82B-48   |Black |3374.99  |\n",
            "|Road-250 Red, 44       |BK-R89R-44   |Red   |2443.35  |\n",
            "|Road-250 Red, 48       |BK-R89R-48   |Red   |2443.35  |\n",
            "+-----------------------+-------------+------+---------+\n",
            "\n"
          ]
        }
      ],
      "source": [
        "filtered_products = (df.filter(df.ProductNumber.startswith(\"BK-\"))\n",
        "                    .select(df.Name, df.ProductNumber, df.Color, df.ListPrice.cast(\"float\").alias(\"ListPrice\"))\n",
        "                    .orderBy(df.ListPrice.cast(\"float\").desc())\n",
        "                    .limit(15))\n",
        "\n",
        "filtered_products.show(truncate=False)"
      ]
    },
    {
      "cell_type": "markdown",
      "metadata": {
        "application/vnd.databricks.v1+cell": {
          "cellMetadata": {},
          "inputWidgets": {},
          "nuid": "6193a402-fe07-4770-92fa-51e26816d3b7",
          "showTitle": false,
          "tableResultSettingsMap": {},
          "title": ""
        },
        "id": "ru6KlLGqdQ3-"
      },
      "source": [
        "##### Using Spark SQL"
      ]
    },
    {
      "cell_type": "code",
      "execution_count": 118,
      "metadata": {
        "application/vnd.databricks.v1+cell": {
          "cellMetadata": {},
          "inputWidgets": {},
          "nuid": "820deb27-888e-45b3-8ec2-e61a3dc1a14b",
          "showTitle": false,
          "tableResultSettingsMap": {},
          "title": ""
        },
        "colab": {
          "base_uri": "https://localhost:8080/"
        },
        "id": "pbkxIR5_dQ3-",
        "outputId": "ce2483c9-ee51-4dcd-d457-a9b72581544a"
      },
      "outputs": [
        {
          "output_type": "stream",
          "name": "stdout",
          "text": [
            "+-----------------------+-------------+------+---------+\n",
            "|Name                   |ProductNumber|Color |ListPrice|\n",
            "+-----------------------+-------------+------+---------+\n",
            "|Road-150 Red, 62       |BK-R93R-62   |Red   |3578.27  |\n",
            "|Road-150 Red, 44       |BK-R93R-44   |Red   |3578.27  |\n",
            "|Road-150 Red, 48       |BK-R93R-48   |Red   |3578.27  |\n",
            "|Road-150 Red, 52       |BK-R93R-52   |Red   |3578.27  |\n",
            "|Road-150 Red, 56       |BK-R93R-56   |Red   |3578.27  |\n",
            "|Mountain-100 Silver, 44|BK-M82S-44   |Silver|3399.99  |\n",
            "|Mountain-100 Silver, 48|BK-M82S-48   |Silver|3399.99  |\n",
            "|Mountain-100 Silver, 38|BK-M82S-38   |Silver|3399.99  |\n",
            "|Mountain-100 Silver, 42|BK-M82S-42   |Silver|3399.99  |\n",
            "|Mountain-100 Black, 38 |BK-M82B-38   |Black |3374.99  |\n",
            "|Mountain-100 Black, 42 |BK-M82B-42   |Black |3374.99  |\n",
            "|Mountain-100 Black, 44 |BK-M82B-44   |Black |3374.99  |\n",
            "|Mountain-100 Black, 48 |BK-M82B-48   |Black |3374.99  |\n",
            "|Road-250 Red, 44       |BK-R89R-44   |Red   |2443.35  |\n",
            "|Road-250 Red, 48       |BK-R89R-48   |Red   |2443.35  |\n",
            "+-----------------------+-------------+------+---------+\n",
            "\n"
          ]
        }
      ],
      "source": [
        "df.createOrReplaceTempView(\"product_view\")\n",
        "\n",
        "sqlContext.sql(\"\"\"SELECT Name, ProductNumber, Color, CAST(ListPrice AS FLOAT) AS ListPrice\n",
        "                  FROM product_view\n",
        "                  WHERE ProductNumber LIKE 'BK-%'\n",
        "                  ORDER BY ListPrice DESC\n",
        "                  LIMIT 15\"\"\").show(truncate=False)"
      ]
    },
    {
      "cell_type": "markdown",
      "metadata": {
        "application/vnd.databricks.v1+cell": {
          "cellMetadata": {},
          "inputWidgets": {},
          "nuid": "cec197c9-eb1f-4b42-976d-45c12a0c2cc3",
          "showTitle": false,
          "tableResultSettingsMap": {},
          "title": ""
        },
        "id": "Axd_dP8ldQ3-"
      },
      "source": [
        "#### 5. Visualize Average List Price per Color and Average List Price per Size. Discuss/Explain your results."
      ]
    },
    {
      "cell_type": "code",
      "execution_count": 119,
      "metadata": {
        "application/vnd.databricks.v1+cell": {
          "cellMetadata": {
            "byteLimit": 2048000,
            "rowLimit": 10000
          },
          "inputWidgets": {},
          "nuid": "7214bde0-02aa-4fc6-b124-06f5a22bc5e5",
          "showTitle": false,
          "tableResultSettingsMap": {},
          "title": ""
        },
        "id": "1-4NEY64dQ3-"
      },
      "outputs": [],
      "source": [
        "import pandas as pd\n",
        "import matplotlib\n",
        "import matplotlib.pyplot as plt\n",
        "from pyspark.sql import functions as F\n",
        "%matplotlib inline"
      ]
    },
    {
      "cell_type": "code",
      "execution_count": 120,
      "metadata": {
        "application/vnd.databricks.v1+cell": {
          "cellMetadata": {},
          "inputWidgets": {},
          "nuid": "ad7e9cf5-f424-4b09-af34-df53c021f43a",
          "showTitle": false,
          "tableResultSettingsMap": {},
          "title": ""
        },
        "id": "t-rDGT-5dQ3-"
      },
      "outputs": [],
      "source": [
        "avg_price_by_color = df.groupBy(\"Color\").agg(F.avg(\"ListPrice\").alias(\"AvgListPriceByColor\"))\n",
        "avg_price_by_size = df.groupBy(\"Size\").agg(F.avg(\"ListPrice\").alias(\"AvgListPriceBySize\"))"
      ]
    },
    {
      "cell_type": "code",
      "source": [
        "avg_price_color_df = avg_price_by_color.toPandas()\n",
        "avg_price_size_df = avg_price_by_size.toPandas()"
      ],
      "metadata": {
        "id": "ue8D1oQCmQR4"
      },
      "execution_count": 121,
      "outputs": []
    },
    {
      "cell_type": "code",
      "source": [
        "plt.figure(figsize=(10, 6))\n",
        "plt.bar(avg_price_color_df['Color'], avg_price_color_df['AvgListPriceByColor'], color='pink')\n",
        "plt.title('Average List Price per Color')\n",
        "plt.xlabel('Color')\n",
        "plt.ylabel('Average List Price')\n",
        "plt.xticks(rotation=45)\n",
        "plt.show()"
      ],
      "metadata": {
        "colab": {
          "base_uri": "https://localhost:8080/",
          "height": 618
        },
        "id": "F-6vr8wDmSyq",
        "outputId": "193021ca-59a6-42ce-9782-e411179f3861"
      },
      "execution_count": 122,
      "outputs": [
        {
          "output_type": "display_data",
          "data": {
            "text/plain": [
              "<Figure size 1000x600 with 1 Axes>"
            ],
            "image/png": "[encoded data removed]"
          },
          "metadata": {}
        }
      ]
    },
    {
      "cell_type": "markdown",
      "source": [
        "The red color has the highest average list price, followed by silver and yellow.\n",
        "White color has the lowest average price, and there are a few NULL values in the dataset.\n"
      ],
      "metadata": {
        "id": "0eiSg--dmZhD"
      }
    },
    {
      "cell_type": "code",
      "source": [
        "plt.figure(figsize=(10, 6))\n",
        "plt.bar(avg_price_size_df['Size'], avg_price_size_df['AvgListPriceBySize'], color='skyblue')\n",
        "plt.title('Average List Price per Size')\n",
        "plt.xlabel('Size')\n",
        "plt.ylabel('Average List Price')\n",
        "plt.xticks(rotation=45)\n",
        "plt.show()"
      ],
      "metadata": {
        "colab": {
          "base_uri": "https://localhost:8080/",
          "height": 585
        },
        "id": "-u1d9VRMm08k",
        "outputId": "73869220-699b-49e6-8902-b5c02418693d"
      },
      "execution_count": 123,
      "outputs": [
        {
          "output_type": "display_data",
          "data": {
            "text/plain": [
              "<Figure size 1000x600 with 1 Axes>"
            ],
            "image/png": "[encoded data removed]"
          },
          "metadata": {}
        }
      ]
    },
    {
      "cell_type": "markdown",
      "source": [
        "Size 56 has the highest average list price, followed by sizes 38 and 46.\n",
        "\n",
        "Sizes XL, M, L, and 70 show the lowest average prices. Some NULL values are present as well."
      ],
      "metadata": {
        "id": "HZnke648m2Tm"
      }
    },
    {
      "cell_type": "markdown",
      "metadata": {
        "application/vnd.databricks.v1+cell": {
          "cellMetadata": {},
          "inputWidgets": {},
          "nuid": "3c3731a0-f63d-46fe-87de-416efca7b8ae",
          "showTitle": false,
          "tableResultSettingsMap": {},
          "title": ""
        },
        "id": "EyV8Wco3dQ3-"
      },
      "source": [
        "#### 6. Visualize Total Count per Size. Discuss/Explain your results."
      ]
    },
    {
      "cell_type": "code",
      "execution_count": 124,
      "metadata": {
        "application/vnd.databricks.v1+cell": {
          "cellMetadata": {},
          "inputWidgets": {},
          "nuid": "7d9e8ea0-b441-41c5-be1e-7b93801de3f5",
          "showTitle": false,
          "tableResultSettingsMap": {},
          "title": ""
        },
        "id": "Pi9LN8BbdQ3-"
      },
      "outputs": [],
      "source": [
        "size_count_data = df.groupBy(\"Size\").count().withColumnRenamed(\"count\", \"TotalCountBySize\")\n",
        "size_count_df = size_count_data.toPandas()"
      ]
    },
    {
      "cell_type": "code",
      "source": [
        "plt.figure(figsize=(10, 6))\n",
        "plt.bar(size_count_df['Size'], size_count_df['TotalCountBySize'], color='orange')\n",
        "plt.title('Total Count per Size')\n",
        "plt.xlabel('Size')\n",
        "plt.ylabel('Total Count')\n",
        "plt.xticks(rotation=45)\n",
        "plt.show()"
      ],
      "metadata": {
        "colab": {
          "base_uri": "https://localhost:8080/",
          "height": 585
        },
        "id": "uz6VswrmnQ6s",
        "outputId": "730d7ba3-b8be-46d0-9e5b-e5f10ebe0eab"
      },
      "execution_count": 125,
      "outputs": [
        {
          "output_type": "display_data",
          "data": {
            "text/plain": [
              "<Figure size 1000x600 with 1 Axes>"
            ],
            "image/png": "[encoded data removed]"
          },
          "metadata": {}
        }
      ]
    },
    {
      "cell_type": "markdown",
      "source": [
        "The highest count is observed for NULL values, indicating that the dataset requires cleaning. Sizes 46, M, L, 60, 40, and 62 show similar counts, while size 70 has the lowest count."
      ],
      "metadata": {
        "id": "vmDRljwDnbSE"
      }
    },
    {
      "cell_type": "markdown",
      "metadata": {
        "application/vnd.databricks.v1+cell": {
          "cellMetadata": {},
          "inputWidgets": {},
          "nuid": "65b7c02f-106d-4dc6-a681-2708a2b3de5a",
          "showTitle": false,
          "tableResultSettingsMap": {},
          "title": ""
        },
        "id": "wPdy86qLdQ3-"
      },
      "source": [
        "# Using Machine Learning Library (For Practice)"
      ]
    },
    {
      "cell_type": "code",
      "execution_count": 126,
      "metadata": {
        "application/vnd.databricks.v1+cell": {
          "cellMetadata": {
            "byteLimit": 2048000,
            "rowLimit": 10000
          },
          "inputWidgets": {},
          "nuid": "d7350414-127d-4e37-8aa0-cdc43f8f0bd4",
          "showTitle": false,
          "tableResultSettingsMap": {},
          "title": ""
        },
        "colab": {
          "base_uri": "https://localhost:8080/"
        },
        "id": "G3XjUV81dQ3_",
        "outputId": "dd3796cf-a099-45c5-efc4-954c31f843a7"
      },
      "outputs": [
        {
          "output_type": "stream",
          "name": "stdout",
          "text": [
            "+-------+----+---------+\n",
            "|Weight |Size|ListPrice|\n",
            "+-------+----+---------+\n",
            "|1016.04|58.0|1431.5   |\n",
            "|1016.04|58.0|1431.5   |\n",
            "|NULL   |NULL|34.99    |\n",
            "|NULL   |NULL|34.99    |\n",
            "|NULL   |NULL|9.5      |\n",
            "+-------+----+---------+\n",
            "only showing top 5 rows\n",
            "\n"
          ]
        }
      ],
      "source": [
        "dfall = df.select(df.Weight.cast(\"float\"), df.Size.cast(\"float\"), df.ListPrice.cast(\"float\"))\n",
        "dfall.show(5, truncate=False)"
      ]
    },
    {
      "cell_type": "code",
      "execution_count": 127,
      "metadata": {
        "application/vnd.databricks.v1+cell": {
          "cellMetadata": {
            "byteLimit": 2048000,
            "rowLimit": 10000
          },
          "inputWidgets": {},
          "nuid": "c11425a9-aacd-43d0-882c-eb0a0002c6cf",
          "showTitle": false,
          "tableResultSettingsMap": {},
          "title": ""
        },
        "id": "mPEX78ZkdQ3_"
      },
      "outputs": [],
      "source": [
        "dfall = dfall.na.drop(\"any\")"
      ]
    },
    {
      "cell_type": "code",
      "execution_count": 128,
      "metadata": {
        "application/vnd.databricks.v1+cell": {
          "cellMetadata": {
            "byteLimit": 2048000,
            "rowLimit": 10000
          },
          "inputWidgets": {},
          "nuid": "653da381-78ec-470d-8994-825d252cea19",
          "showTitle": false,
          "tableResultSettingsMap": {},
          "title": ""
        },
        "id": "fsrh8GBNdQ3_"
      },
      "outputs": [],
      "source": [
        "feature_columns = dfall.columns[:-1] # here we omit the final column for prediction\n",
        "from pyspark.ml.feature import VectorAssembler\n",
        "assembler = VectorAssembler(inputCols=feature_columns,outputCol=\"features\")"
      ]
    },
    {
      "cell_type": "code",
      "execution_count": 129,
      "metadata": {
        "application/vnd.databricks.v1+cell": {
          "cellMetadata": {
            "byteLimit": 2048000,
            "rowLimit": 10000
          },
          "inputWidgets": {},
          "nuid": "e2c5c2ab-8358-49e4-bd21-dc252e5848a5",
          "showTitle": false,
          "tableResultSettingsMap": {},
          "title": ""
        },
        "id": "gIC4y6wedQ3_"
      },
      "outputs": [],
      "source": [
        "data_2 = assembler.transform(dfall)"
      ]
    },
    {
      "cell_type": "code",
      "execution_count": 130,
      "metadata": {
        "application/vnd.databricks.v1+cell": {
          "cellMetadata": {
            "byteLimit": 2048000,
            "rowLimit": 10000
          },
          "inputWidgets": {},
          "nuid": "05b1b005-27ba-4f4d-bfac-473869a3aee2",
          "showTitle": false,
          "tableResultSettingsMap": {},
          "title": ""
        },
        "colab": {
          "base_uri": "https://localhost:8080/"
        },
        "id": "E2Tc0PCKdQ3_",
        "outputId": "7f4ab624-7114-4bc1-ca82-a9359c1390b4"
      },
      "outputs": [
        {
          "output_type": "stream",
          "name": "stdout",
          "text": [
            "+-------+----+---------+--------------------+\n",
            "| Weight|Size|ListPrice|            features|\n",
            "+-------+----+---------+--------------------+\n",
            "|1016.04|58.0|   1431.5|[1016.03997802734...|\n",
            "|1016.04|58.0|   1431.5|[1016.03997802734...|\n",
            "|1043.26|62.0|   1431.5|[1043.26000976562...|\n",
            "| 961.61|44.0|   1431.5|[961.609985351562...|\n",
            "| 979.75|48.0|   1431.5|       [979.75,48.0]|\n",
            "|  997.9|52.0|   1431.5|[997.900024414062...|\n",
            "|1016.04|56.0|   1431.5|[1016.03997802734...|\n",
            "|1115.83|58.0|   337.22|[1115.82995605468...|\n",
            "| 1124.9|60.0|   337.22|[1124.90002441406...|\n",
            "|1133.98|62.0|   337.22|[1133.97998046875...|\n",
            "|1052.33|44.0|   337.22|[1052.32995605468...|\n",
            "|1070.47|48.0|   337.22|[1070.46997070312...|\n",
            "|1088.62|52.0|   337.22|[1088.61999511718...|\n",
            "|1115.83|58.0|   337.22|[1115.82995605468...|\n",
            "| 1124.9|60.0|   337.22|[1124.90002441406...|\n",
            "|1133.98|62.0|   337.22|[1133.97998046875...|\n",
            "|1006.97|44.0|   594.83|[1006.96997070312...|\n",
            "|1025.11|48.0|   594.83|[1025.10998535156...|\n",
            "|1043.26|52.0|   594.83|[1043.26000976562...|\n",
            "|1070.47|58.0|   594.83|[1070.46997070312...|\n",
            "+-------+----+---------+--------------------+\n",
            "only showing top 20 rows\n",
            "\n"
          ]
        }
      ],
      "source": [
        "data_2.show()"
      ]
    },
    {
      "cell_type": "code",
      "execution_count": 131,
      "metadata": {
        "application/vnd.databricks.v1+cell": {
          "cellMetadata": {
            "byteLimit": 2048000,
            "rowLimit": 10000
          },
          "inputWidgets": {},
          "nuid": "ceb6abc9-573b-4ae2-8e03-21a79639805a",
          "showTitle": false,
          "tableResultSettingsMap": {},
          "title": ""
        },
        "id": "Lj7dEh4IdQ3_"
      },
      "outputs": [],
      "source": [
        "from pyspark.ml.regression import LinearRegression"
      ]
    },
    {
      "cell_type": "code",
      "execution_count": 132,
      "metadata": {
        "application/vnd.databricks.v1+cell": {
          "cellMetadata": {
            "byteLimit": 2048000,
            "rowLimit": 10000
          },
          "inputWidgets": {},
          "nuid": "950d1b20-4331-4510-b9cd-db2819cb3474",
          "showTitle": false,
          "tableResultSettingsMap": {},
          "title": ""
        },
        "id": "YxAOszqSdQ4A"
      },
      "outputs": [],
      "source": [
        "algo = LinearRegression(featuresCol=\"features\", labelCol=\"ListPrice\")"
      ]
    },
    {
      "cell_type": "code",
      "execution_count": 133,
      "metadata": {
        "application/vnd.databricks.v1+cell": {
          "cellMetadata": {
            "byteLimit": 2048000,
            "rowLimit": 10000
          },
          "inputWidgets": {},
          "nuid": "bb9182a8-78da-4250-8303-26a222676e1d",
          "showTitle": false,
          "tableResultSettingsMap": {},
          "title": ""
        },
        "id": "dQOw9FN9dQ4A"
      },
      "outputs": [],
      "source": [
        "model = algo.fit(data_2)"
      ]
    },
    {
      "cell_type": "code",
      "execution_count": 134,
      "metadata": {
        "application/vnd.databricks.v1+cell": {
          "cellMetadata": {
            "byteLimit": 2048000,
            "rowLimit": 10000
          },
          "inputWidgets": {},
          "nuid": "373a7a87-ed11-4d0f-b98d-98ce2889907c",
          "showTitle": false,
          "tableResultSettingsMap": {},
          "title": ""
        },
        "id": "3ERiwQEFdQ4A"
      },
      "outputs": [],
      "source": [
        "evaluation_summary = model.evaluate(data_2)"
      ]
    },
    {
      "cell_type": "code",
      "execution_count": 135,
      "metadata": {
        "application/vnd.databricks.v1+cell": {
          "cellMetadata": {
            "byteLimit": 2048000,
            "rowLimit": 10000
          },
          "inputWidgets": {},
          "nuid": "1548b3b3-f7f4-48f6-ad73-2b070f7595da",
          "showTitle": false,
          "tableResultSettingsMap": {},
          "title": ""
        },
        "colab": {
          "base_uri": "https://localhost:8080/"
        },
        "id": "YT-5ibfgdQ4A",
        "outputId": "345ebefc-7544-44cd-8047-85f0b045254f"
      },
      "outputs": [
        {
          "output_type": "execute_result",
          "data": {
            "text/plain": [
              "862.8415344138203"
            ]
          },
          "metadata": {},
          "execution_count": 135
        }
      ],
      "source": [
        "evaluation_summary.rootMeanSquaredError"
      ]
    },
    {
      "cell_type": "code",
      "execution_count": 136,
      "metadata": {
        "application/vnd.databricks.v1+cell": {
          "cellMetadata": {
            "byteLimit": 2048000,
            "rowLimit": 10000
          },
          "inputWidgets": {},
          "nuid": "5bb20dc4-259c-4de1-bb3c-ea477a692d17",
          "showTitle": false,
          "tableResultSettingsMap": {},
          "title": ""
        },
        "colab": {
          "base_uri": "https://localhost:8080/"
        },
        "id": "934WyjIRdQ4A",
        "outputId": "29c56b0e-09b1-4628-de2b-93ff3d5f8f65"
      },
      "outputs": [
        {
          "output_type": "execute_result",
          "data": {
            "text/plain": [
              "0.10019389704278814"
            ]
          },
          "metadata": {},
          "execution_count": 136
        }
      ],
      "source": [
        "evaluation_summary.r2"
      ]
    },
    {
      "cell_type": "code",
      "source": [],
      "metadata": {
        "id": "nlX6W9T1nicr"
      },
      "execution_count": 136,
      "outputs": []
    }
  ],
  "metadata": {
    "application/vnd.databricks.v1+notebook": {
      "dashboards": [],
      "environmentMetadata": null,
      "language": "python",
      "notebookMetadata": {
        "pythonIndentUnit": 2
      },
      "notebookName": "HW14-Spark",
      "widgets": {}
    },
    "kernelspec": {
      "display_name": "Python 3 (ipykernel)",
      "language": "python",
      "name": "python3"
    },
    "language_info": {
      "codemirror_mode": {
        "name": "ipython",
        "version": 3
      },
      "file_extension": ".py",
      "mimetype": "text/x-python",
      "name": "python",
      "nbconvert_exporter": "python",
      "pygments_lexer": "ipython3",
      "version": "3.12.4"
    },
    "colab": {
      "provenance": []
    }
  },
  "nbformat": 4,
  "nbformat_minor": 0
}